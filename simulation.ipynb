{
 "cells": [
  {
   "cell_type": "code",
   "execution_count": 2,
   "id": "e9a08c38-a040-428b-9d39-36962e02bcb8",
   "metadata": {},
   "outputs": [],
   "source": [
    "import pandas\n",
    "import numpy\n",
    "import dtw\n",
    "from scipy.stats import poisson, norm\n",
    "import time\n",
    "import seaborn as sns"
   ]
  },
  {
   "cell_type": "code",
   "execution_count": 274,
   "id": "6b19b1f7-14e2-4272-943b-246d5b14cf19",
   "metadata": {},
   "outputs": [],
   "source": [
    "simulated_curves = []\n",
    "for i in range(100):\n",
    "    new_curve = []\n",
    "    for n in lc1[0]:\n",
    "        new_curve.append(poisson.rvs(mu = n, size = 1)[0])\n",
    "    simulated_curves.append(new_curve)"
   ]
  },
  {
   "cell_type": "code",
   "execution_count": 275,
   "id": "2b2d50f3-f1ae-439c-b23b-9db4ce079e9a",
   "metadata": {},
   "outputs": [
    {
     "name": "stdout",
     "output_type": "stream",
     "text": [
      "Total time = 0.35500001907348633\n"
     ]
    }
   ],
   "source": [
    "start_time = time.time()\n",
    "dtw_list = []\n",
    "for curve in simulated_curves:\n",
    "    d, *a= dtw(n1, curve, dist = manhattan_distance)\n",
    "    dtw_list.append(d)\n",
    "end_time = time.time()\n",
    "print(f'Total time = {end_time - start_time}')"
   ]
  },
  {
   "cell_type": "code",
   "execution_count": 281,
   "id": "2ff2e171-f3d1-4322-9509-51de32f20fb3",
   "metadata": {},
   "outputs": [
    {
     "name": "stdout",
     "output_type": "stream",
     "text": [
      "779.28 113.24717038407626\n"
     ]
    },
    {
     "data": {
      "text/plain": [
       "<matplotlib.lines.Line2D at 0x7fe457e5c250>"
      ]
     },
     "execution_count": 281,
     "metadata": {},
     "output_type": "execute_result"
    },
    {
     "data": {
      "image/png": "[encoded data removed]",
      "text/plain": [
       "<Figure size 432x288 with 1 Axes>"
      ]
     },
     "metadata": {
      "needs_background": "light"
     },
     "output_type": "display_data"
    }
   ],
   "source": [
    "mu, std = norm.fit(dtw_list)\n",
    "print(mu, std)\n",
    "plt.hist(dtw_list, density=True)\n",
    "xmin, xmax = plt.xlim()\n",
    "x = np.linspace(xmin, xmax, 100)\n",
    "p = norm.pdf(x, mu, std)\n",
    "plt.plot(x, p, 'k', linewidth=2)\n",
    "plt.axvline(d1, color='red')\n",
    "plt.axvline(d2, color='red')\n",
    "plt.axvline(d3, color='red')"
   ]
  }
 ],
 "metadata": {
  "kernelspec": {
   "display_name": "Python 3 (ipykernel)",
   "language": "python",
   "name": "python3"
  },
  "language_info": {
   "codemirror_mode": {
    "name": "ipython",
    "version": 3
   },
   "file_extension": ".py",
   "mimetype": "text/x-python",
   "name": "python",
   "nbconvert_exporter": "python",
   "pygments_lexer": "ipython3",
   "version": "3.9.7"
  }
 },
 "nbformat": 4,
 "nbformat_minor": 5
}
