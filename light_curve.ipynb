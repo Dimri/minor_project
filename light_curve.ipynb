{
 "cells": [
  {
   "cell_type": "code",
   "execution_count": 117,
   "id": "87e4cdc2-0419-4e28-a75d-a4ec0f8981ce",
   "metadata": {},
   "outputs": [
    {
     "name": "stdout",
     "output_type": "stream",
     "text": [
      "n0 49\n",
      "n1 52\n",
      "n2 64\n",
      "n3 97\n",
      "n4 143\n",
      "n5 107\n",
      "n6 63\n",
      "n7 78\n",
      "n8 115\n",
      "n9 17\n",
      "na 38\n",
      "nb 73\n",
      "b0 110\n",
      "b1 70\n",
      "LAT-LLE 54\n",
      "LAT 54\n",
      "The brightest NaI detector is n9 - Source angle is: 17 deg\n",
      "The brightest 3 NaI detectors are n9 ( 17 deg) na ( 38 deg) n0 ( 49 deg)\n",
      "The brightest BGO detector is b1 ( 70 deg )\n"
     ]
    }
   ],
   "source": [
    "#find the brightest NaI detector\n",
    "import estimate_source_angles_detectors as esad\n",
    "ra, dec = 55.383, -89.009\n",
    "b1, b2, b3 = esad.angle_to_grb(ra, dec,'/Users/Priyanka/Downloads/w3browse-158622/current/glg_trigdat_all_bn120403857_v01.fit')"
   ]
  },
  {
   "cell_type": "code",
   "execution_count": 119,
   "id": "b936f5ec-27ec-48b2-9745-4b93bec69433",
   "metadata": {},
   "outputs": [],
   "source": [
    "from astropy.io import fits\n",
    "import pandas as pd\n",
    "import numpy as np\n",
    "\n",
    "#open the fits file\n",
    "fitfile = fits.open('/Users/Priyanka/Downloads/w3browse-158622/current/glg_tte_n9_bn120403857_v00.fit')\n",
    "\n",
    "#convert the EVENTS header into a dataframe\n",
    "timedf = pd.DataFrame(fitfile[2].data)\n",
    "\n",
    "#change the dtype of both the columns\n",
    "timedf.PHA = timedf.PHA.astype('int32')\n",
    "timedf.TIME = timedf.TIME.astype('float')\n",
    "\n",
    "#get trigger time from the fits file\n",
    "trigtime = fitfile[0].header['TRIGTIME']\n",
    "\n",
    "#make a new translated time column\n",
    "timedf['TTIME'] = timedf.TIME - trigtime"
   ]
  },
  {
   "cell_type": "code",
   "execution_count": 116,
   "id": "02960d63-9656-4c67-8166-3809315d988f",
   "metadata": {},
   "outputs": [
    {
     "data": {
      "text/plain": [
       "(array([ 96., 102.,  92., ..., 112., 114., 101.]),\n",
       " array([-10. ,  -9.9,  -9.8, ...,  99.8,  99.9, 100. ]),\n",
       " <BarContainer object of 1100 artists>)"
      ]
     },
     "execution_count": 116,
     "metadata": {},
     "output_type": "execute_result"
    },
    {
     "data": {
      "image/png": "[encoded data removed]",
      "text/plain": [
       "<Figure size 432x288 with 1 Axes>"
      ]
     },
     "metadata": {
      "needs_background": "light"
     },
     "output_type": "display_data"
    }
   ],
   "source": [
    "import matplotlib.pyplot as plt\n",
    "plt.hist(timedf.TTIME, bins = int(110/0.1), range = (-10,100))"
   ]
  },
  {
   "cell_type": "code",
   "execution_count": 140,
   "id": "3691540b-5db6-4a5d-9662-7a8572f806c8",
   "metadata": {},
   "outputs": [
    {
     "data": {
      "text/plain": [
       "(array([4., 2., 0., 0., 1.]),\n",
       " array([1. , 2.4, 3.8, 5.2, 6.6, 8. ]),\n",
       " <BarContainer object of 5 artists>)"
      ]
     },
     "execution_count": 140,
     "metadata": {},
     "output_type": "execute_result"
    },
    {
     "data": {
      "image/png": "[encoded data removed]",
      "text/plain": [
       "<Figure size 432x288 with 1 Axes>"
      ]
     },
     "metadata": {
      "needs_background": "light"
     },
     "output_type": "display_data"
    }
   ],
   "source": [
    "plt.hist([1,2,3,8,3,2,1], bins = 5)"
   ]
  },
  {
   "cell_type": "code",
   "execution_count": null,
   "id": "06da03a1-27da-48e4-ad95-d6d96e8d9237",
   "metadata": {},
   "outputs": [],
   "source": []
  }
 ],
 "metadata": {
  "kernelspec": {
   "display_name": "Python 3 (ipykernel)",
   "language": "python",
   "name": "python3"
  },
  "language_info": {
   "codemirror_mode": {
    "name": "ipython",
    "version": 3
   },
   "file_extension": ".py",
   "mimetype": "text/x-python",
   "name": "python",
   "nbconvert_exporter": "python",
   "pygments_lexer": "ipython3",
   "version": "3.9.7"
  }
 },
 "nbformat": 4,
 "nbformat_minor": 5
}
