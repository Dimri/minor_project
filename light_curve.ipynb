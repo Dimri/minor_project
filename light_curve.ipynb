{
 "cells": [
  {
   "cell_type": "markdown",
   "id": "8d3dde9c-2d73-42d8-a15c-c9bdf6020026",
   "metadata": {},
   "source": [
    "Comparing the GRB's :\n",
    "\n",
    "`nbd[2] = [6,15,3235,3244]`\n",
    "\n",
    "6 = GRB150312403\n",
    "\n",
    "15 = GRB170130697"
   ]
  },
  {
   "cell_type": "code",
   "execution_count": 3,
   "id": "20af6bf5-45c7-427a-aee1-e7d1c095f5d2",
   "metadata": {},
   "outputs": [],
   "source": [
    "import pandas as pd\n",
    "import numpy as np"
   ]
  },
  {
   "cell_type": "code",
   "execution_count": 14,
   "id": "769e79fa-f532-4b1a-8ec7-d57926c6f316",
   "metadata": {},
   "outputs": [],
   "source": [
    "# get the ra and dec values of grbs to compare\n",
    "#light curve dataframe\n",
    "lcdf = pd.read_csv('gbmdatacleaned.csv', index_col = 0)\n",
    "grb_index = [6,15,2]\n",
    "ra = [] #to hold ra values\n",
    "dec = [] #to hold dec values\n",
    "for i in grb_index:\n",
    "    ra.append(lcdf.iloc[i].ra_val)\n",
    "    dec.append(lcdf.iloc[i].dec_val)"
   ]
  },
  {
   "cell_type": "code",
   "execution_count": 16,
   "id": "87e4cdc2-0419-4e28-a75d-a4ec0f8981ce",
   "metadata": {},
   "outputs": [
    {
     "name": "stdout",
     "output_type": "stream",
     "text": [
      "n3\n",
      "n3\n",
      "n8\n"
     ]
    }
   ],
   "source": [
    "#find the name of the brightest NaI detector\n",
    "import estimate_source_angles_detectors as esad\n",
    "b1, b2, b3 = esad.angle_to_grb(ra[0], dec[0],'/Users/dimrisudhanshu/Downloads/current/glg_trigdat_all_bn150312403_v01.fit')\n",
    "print(b1)\n",
    "b1, b2, b3 = esad.angle_to_grb(ra[1], dec[1],'/Users/dimrisudhanshu/Downloads/current/glg_trigdat_all_bn170130697_v01.fit')\n",
    "print(b1)\n",
    "b1, b2, b3 = esad.angle_to_grb(ra[2], dec[2],'/Users/dimrisudhanshu/Downloads/current/glg_trigdat_all_bn141205018_v01.fit')\n",
    "print(b1)"
   ]
  },
  {
   "cell_type": "code",
   "execution_count": 18,
   "id": "b936f5ec-27ec-48b2-9745-4b93bec69433",
   "metadata": {},
   "outputs": [],
   "source": [
    "from astropy.io import fits\n",
    "\n",
    "#open the fits file corresponding to the brightest NaI detectors\n",
    "fitfile1 = fits.open('/Users/dimrisudhanshu/Downloads/current/glg_tte_n3_bn150312403_v01.fit')\n",
    "fitfile2 = fits.open('/Users/dimrisudhanshu/Downloads/current/glg_tte_n3_bn170130697_v00.fit')\n",
    "fitfile3 = fits.open('/Users/dimrisudhanshu/Downloads/current/glg_tte_n8_bn141205018_v00.fit')\n",
    "\n",
    "#convert the EVENTS header into a dataframe\n",
    "timedf1 = pd.DataFrame(fitfile1[2].data)\n",
    "timedf2 = pd.DataFrame(fitfile2[2].data)\n",
    "timedf3 = pd.DataFrame(fitfile3[2].data)\n",
    "\n",
    "#change the dtype of both the columns\n",
    "timedf1.PHA = timedf1.PHA.astype('int32')\n",
    "timedf1.TIME = timedf1.TIME.astype('float')\n",
    "timedf2.PHA = timedf2.PHA.astype('int32')\n",
    "timedf2.TIME = timedf2.TIME.astype('float')\n",
    "timedf3.PHA = timedf3.PHA.astype('int32')\n",
    "timedf3.TIME = timedf3.TIME.astype('float')\n",
    "\n",
    "#get trigger time from the fits file\n",
    "trigtime1 = fitfile1[0].header['TRIGTIME']\n",
    "trigtime2 = fitfile2[0].header['TRIGTIME']\n",
    "trigtime3 = fitfile3[0].header['TRIGTIME']\n",
    "\n",
    "#make a new translated time column\n",
    "timedf1['TTIME'] = timedf1.TIME - trigtime1\n",
    "timedf2['TTIME'] = timedf2.TIME - trigtime2\n",
    "timedf3['TTIME'] = timedf3.TIME - trigtime3"
   ]
  },
  {
   "cell_type": "code",
   "execution_count": 19,
   "id": "8c3a0a17-4dd4-4fa6-9220-6878b203caf7",
   "metadata": {},
   "outputs": [],
   "source": [
    "#get the names of the GRB's\n",
    "grbname1 = fitfile1[0].header['OBJECT']\n",
    "grbname2 = fitfile2[0].header['OBJECT']\n",
    "grbname3 = fitfile3[0].header['OBJECT']\n",
    "\n",
    "def get_t90(grbname):\n",
    "    '''\n",
    "    function to get the t90 value of a given grb from the cleaned \n",
    "    gbm dataset\n",
    "    grbname = name of the grb \n",
    "    '''\n",
    "    lcdf = pd.read_csv('gbmdatacleaned.csv', index_col = 0)\n",
    "    result = lcdf.loc[lcdf.name == grbname] #find the row with name = grbname\n",
    "    # print(result)\n",
    "    t90 = result.t90 #this is an object\n",
    "    return float(t90.iloc[0].strip()) #strip to remove the trailing whitespaces"
   ]
  },
  {
   "cell_type": "code",
   "execution_count": 77,
   "id": "64d904ab-ee10-4de7-981d-75f37f923b93",
   "metadata": {},
   "outputs": [],
   "source": [
    "def getBinSize(t90):\n",
    "    if t90 >= 2:\n",
    "        return 1\n",
    "    else:\n",
    "        return 0.1"
   ]
  },
  {
   "cell_type": "code",
   "execution_count": 89,
   "id": "d61b1236-80d9-47b3-b8df-e9984a691687",
   "metadata": {},
   "outputs": [
    {
     "data": {
      "text/plain": [
       "<matplotlib.legend.Legend at 0x7fe99d24edc0>"
      ]
     },
     "execution_count": 89,
     "metadata": {},
     "output_type": "execute_result"
    },
    {
     "data": {
      "image/png": "[encoded data removed]",
      "text/plain": [
       "<Figure size 576x288 with 1 Axes>"
      ]
     },
     "metadata": {
      "needs_background": "light"
     },
     "output_type": "display_data"
    }
   ],
   "source": [
    "#print the histogram to get the photon counts\n",
    "import matplotlib.pyplot as plt\n",
    "\n",
    "t90_1 = get_t90(grbname1)\n",
    "t90_2 = get_t90(grbname2)\n",
    "t90_3 = get_t90(grbname3)\n",
    "\n",
    "plt.figure(figsize = (8,4))\n",
    "start_1, end_1 = -10, t90_1 + 10\n",
    "start_2, end_2 = -10, t90_2 + 10\n",
    "start_3, end_3 = -10, t90_3 + 10\n",
    "\n",
    "bin_size1 = getBinSize(t90_1)\n",
    "bin_size2 = getBinSize(t90_2)\n",
    "bin_size3 = getBinSize(t90_3)\n",
    "\n",
    "\n",
    "N2 = plt.hist(timedf2.TTIME, bins = int((end_2 - start_2)/bin_size2), range = (start_2, end_2), alpha = 0.5, label = grbname2)\n",
    "N3 = plt.hist(timedf3.TTIME, bins = int((end_3 - start_3)/bin_size3), range = (start_3, end_3), alpha = 0.5, label = grbname3)\n",
    "N1 = plt.hist(timedf1.TTIME, bins = int((end_1 - start_1)/bin_size1), range = (start_1, end_1), alpha = 0.5, label = grbname1)\n",
    "\n",
    "plt.legend(loc = 'upper right')"
   ]
  },
  {
   "cell_type": "code",
   "execution_count": 90,
   "id": "d57ed397-f9ce-4452-bfb0-15025b370fb4",
   "metadata": {},
   "outputs": [],
   "source": [
    "n2 = N2[0]\n",
    "n1 = N1[0]\n",
    "n3 = N3[0]"
   ]
  },
  {
   "cell_type": "markdown",
   "id": "e77a06f1-5852-44fa-8dfa-649531717bbd",
   "metadata": {},
   "source": [
    "Now `n1` and `n2` are our two light curves"
   ]
  },
  {
   "cell_type": "code",
   "execution_count": 91,
   "id": "d75b18ce-2ac8-44de-bb16-7d71d66d487d",
   "metadata": {},
   "outputs": [
    {
     "name": "stdout",
     "output_type": "stream",
     "text": [
      "203 49 33\n"
     ]
    }
   ],
   "source": [
    "# length of both time series\n",
    "print(len(n1), len(n2), len(n3))"
   ]
  },
  {
   "cell_type": "code",
   "execution_count": 92,
   "id": "23c2fb61-24a0-4134-8ea3-0fcd64a7c466",
   "metadata": {},
   "outputs": [
    {
     "name": "stdout",
     "output_type": "stream",
     "text": [
      "211693.0 2762.0\n"
     ]
    },
    {
     "data": {
      "image/png": "[encoded data removed]",
      "text/plain": [
       "<Figure size 432x288 with 1 Axes>"
      ]
     },
     "metadata": {
      "needs_background": "light"
     },
     "output_type": "display_data"
    }
   ],
   "source": [
    "# Applying DTW to these light curves\n",
    "from dtw import dtw\n",
    "manhattan_distance = lambda x, y : np.abs(x-y)\n",
    "d1, cost_matrix, acc_cost_matrix, path = dtw(n1,n3, dist = manhattan_distance)\n",
    "d2, cost_matrix, acc_cost_matrix, path = dtw(n2,n3, dist = manhattan_distance)\n",
    "print(d1, d2)\n",
    "\n",
    "#visualizing the plot\n",
    "plt.imshow(acc_cost_matrix.T, origin='lower', cmap='gray', interpolation='nearest')\n",
    "plt.plot(path[0], path[1], 'w')\n",
    "plt.show()"
   ]
  },
  {
   "cell_type": "markdown",
   "id": "c5e0fb86-fb9c-4442-87be-4493316c04dd",
   "metadata": {
    "tags": []
   },
   "source": [
    "### TODO\n",
    "---\n",
    "1. Light Curve Simulation"
   ]
  },
  {
   "cell_type": "code",
   "execution_count": 93,
   "id": "80d5b0fa-b401-4adf-9389-2f0b9cd2e347",
   "metadata": {},
   "outputs": [],
   "source": [
    "from scipy.stats import poisson\n",
    "import time\n",
    "import seaborn as sns"
   ]
  },
  {
   "cell_type": "code",
   "execution_count": 97,
   "id": "569943c4-c3c3-48f1-9c21-74654e5975bb",
   "metadata": {},
   "outputs": [],
   "source": [
    "simulated_curves = []\n",
    "for i in range(1000):\n",
    "    new_curve = []\n",
    "    for n in n3:\n",
    "        new_curve.append(poisson.rvs(mu = n, size = 1)[0])\n",
    "    simulated_curves.append(new_curve)"
   ]
  },
  {
   "cell_type": "code",
   "execution_count": 98,
   "id": "5f5fa4d6-25a7-413f-9159-4fc93d264daa",
   "metadata": {},
   "outputs": [
    {
     "name": "stdout",
     "output_type": "stream",
     "text": [
      "Total time = 5.15636682510376\n"
     ]
    }
   ],
   "source": [
    "start_time = time.time()\n",
    "dtw_list = []\n",
    "for curve in simulated_curves:\n",
    "    d, a, b, c = dtw(n3, curve, dist = manhattan_distance)\n",
    "    dtw_list.append(d)\n",
    "end_time = time.time()\n",
    "print(f'Total time = {end_time - start_time}')"
   ]
  },
  {
   "cell_type": "code",
   "execution_count": 99,
   "id": "8ea59d2a-59e5-4fe8-80e1-2adfc1e8a701",
   "metadata": {},
   "outputs": [
    {
     "data": {
      "text/plain": [
       "<seaborn.axisgrid.FacetGrid at 0x7fe99d134820>"
      ]
     },
     "execution_count": 99,
     "metadata": {},
     "output_type": "execute_result"
    },
    {
     "data": {
      "image/png": "[encoded data removed]",
      "text/plain": [
       "<Figure size 360x360 with 1 Axes>"
      ]
     },
     "metadata": {
      "needs_background": "light"
     },
     "output_type": "display_data"
    }
   ],
   "source": [
    "sns.displot(dtw_list, kde = True, color = 'darkblue',)"
   ]
  },
  {
   "cell_type": "code",
   "execution_count": null,
   "id": "dc83fb40-1bd7-4ae2-af1f-657a9898f75a",
   "metadata": {},
   "outputs": [],
   "source": []
  }
 ],
 "metadata": {
  "kernelspec": {
   "display_name": "Python 3 (ipykernel)",
   "language": "python",
   "name": "python3"
  },
  "language_info": {
   "codemirror_mode": {
    "name": "ipython",
    "version": 3
   },
   "file_extension": ".py",
   "mimetype": "text/x-python",
   "name": "python",
   "nbconvert_exporter": "python",
   "pygments_lexer": "ipython3",
   "version": "3.9.7"
  }
 },
 "nbformat": 4,
 "nbformat_minor": 5
}
