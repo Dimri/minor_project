{
 "cells": [
  {
   "cell_type": "code",
   "execution_count": 2,
   "id": "cb8fa6c4-1953-43f3-9da2-492a575ac84d",
   "metadata": {},
   "outputs": [],
   "source": [
    "import numpy as np\n",
    "import pandas as pd\n",
    "# packages to read ra and dec ; convert b/w hrs and deg easily\n",
    "from astropy.coordinates import SkyCoord, FK4\n",
    "import astropy.units as u"
   ]
  },
  {
   "cell_type": "code",
   "execution_count": 3,
   "id": "900b750a-852c-441f-a5fe-793bfe7d15ad",
   "metadata": {},
   "outputs": [],
   "source": [
    "# read the given text file, using separator as '|'\n",
    "df = pd.read_csv('data/grbdata27052022.txt', skiprows = 4, sep = '|')"
   ]
  },
  {
   "cell_type": "code",
   "execution_count": 4,
   "id": "70ceb59c",
   "metadata": {},
   "outputs": [],
   "source": [
    "# remove the extra spaces in the column names\n",
    "df.columns = [x.strip() for x in df.columns.values]"
   ]
  },
  {
   "cell_type": "code",
   "execution_count": 5,
   "id": "759491b8",
   "metadata": {},
   "outputs": [],
   "source": [
    "# keep only useful columns\n",
    "useful_cols = ['name', 'ra', 'dec', 'trigger_time', 't90', 't90_start', 'fluence', 'fluence_error',\n",
    "'flnc_band_epeak', 'flnc_band_epeak_pos_err', 'flnc_band_epeak_neg_err', 'flnc_band_alpha', 'flnc_band_alpha_pos_err', 'flnc_band_alpha_neg_err']\n",
    "df = df.loc[:, useful_cols]"
   ]
  },
  {
   "cell_type": "code",
   "execution_count": 14,
   "id": "3caa79fc",
   "metadata": {},
   "outputs": [],
   "source": [
    "# make a new column concatenating 'ra' and 'dec'\n",
    "df['RD'] = df['ra'] + df['dec']\n",
    "\n",
    "# there are some NaN values in RD columns\n",
    "# removing all the rows which have NaN in RD column\n",
    "df = df.dropna(axis = 0, subset = ['RD'])\n",
    "\n",
    "# resetting index\n",
    "df.reset_index(drop = True, inplace = True)"
   ]
  },
  {
   "cell_type": "code",
   "execution_count": 15,
   "id": "b41841de-018a-42c1-a3e4-27c5e7e42581",
   "metadata": {},
   "outputs": [],
   "source": [
    "# numpy array of SkyCoord tuple (ra, dec)\n",
    "radec = np.array([SkyCoord(x, frame = FK4, unit = (u.hourangle, u.deg), obstime = \"J2000\") for x in df['RD']])\n",
    "\n",
    "# add two new columns with ra and dec values \n",
    "df['ra_val'] = np.array([x.ra.value for x in radec])\n",
    "df['dec_val'] = np.array([x.dec.value for x in radec])"
   ]
  },
  {
   "cell_type": "code",
   "execution_count": null,
   "id": "cc08c9dc-43c0-4aad-a2cb-a9e3c96ee9cb",
   "metadata": {},
   "outputs": [],
   "source": [
    "# saving the cleaned data frame into a file\n",
    "df.to_csv('data/gbmdatacleaned.csv')"
   ]
  }
 ],
 "metadata": {
  "kernelspec": {
   "display_name": "Python 3.9.12 ('base')",
   "language": "python",
   "name": "python3"
  },
  "language_info": {
   "codemirror_mode": {
    "name": "ipython",
    "version": 3
   },
   "file_extension": ".py",
   "mimetype": "text/x-python",
   "name": "python",
   "nbconvert_exporter": "python",
   "pygments_lexer": "ipython3",
   "version": "3.9.12"
  },
  "vscode": {
   "interpreter": {
    "hash": "1c96efd641c8edc4becd0add2d213e7ec84c37270ea5e51cc70d926f1fea797b"
   }
  }
 },
 "nbformat": 4,
 "nbformat_minor": 5
}
