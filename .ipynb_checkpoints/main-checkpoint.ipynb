{
 "cells": [
  {
   "cell_type": "code",
   "execution_count": 136,
   "id": "e94a08d1-a800-4799-afce-bf1038fbea31",
   "metadata": {},
   "outputs": [],
   "source": [
    "import numpy as np\n",
    "import pandas as pd\n",
    "\n",
    "#read the given text file, using separator as '|'\n",
    "df = pd.read_csv('gbmdata.txt', sep = '|')\n",
    "df = df.reset_index()\n",
    "#remove the first unnecessary column 'Unnamed : 0'\n",
    "df.drop(['Unnamed: 0'], inplace = True, axis = 1)\n",
    "#remove the extra spaces in the column names\n",
    "df.columns = [x.strip() for x in df.columns.values]\n",
    "\n",
    "#packages to read ra and dec \n",
    "#convert b/w hrs and deg easily\n",
    "from astropy.coordinates import SkyCoord, FK4\n",
    "import astropy.units as u\n",
    "#make a new column concatenating 'ra' and 'dec'\n",
    "df['RD'] = df['ra'] + df['dec']\n",
    "#numpy array of SkyCoord tuple (ra, dec)\n",
    "radec = np.array([SkyCoord(x, frame = FK4, unit = (u.hourangle, u.deg), obstime = \"J2000\") for x in df['RD']])\n",
    "#add two new columns with ra and dec values \n",
    "df['ra_val'] = np.array([x.ra.value for x in radec])\n",
    "df['dec_val'] = np.array([x.dec.value for x in radec])"
   ]
  },
  {
   "cell_type": "code",
   "execution_count": 89,
   "id": "9df45153-7235-4ab2-b7aa-267aad485778",
   "metadata": {},
   "outputs": [],
   "source": [
    "R = 10 #radius in degrees"
   ]
  },
  {
   "cell_type": "code",
   "execution_count": 138,
   "id": "1916d224-5856-4b3d-86cb-ad9adaf9110a",
   "metadata": {},
   "outputs": [],
   "source": [
    "#find nearbyGRB in a 'R' degree radius\n",
    "def nearbyGRB(ra, dec, ra_val, dec_val):\n",
    "    nbd = []\n",
    "    for i in range(len(ra_val)):\n",
    "        if ra_val[i] == ra or dec_val[i] == dec:\n",
    "            continue\n",
    "        if( (ra_val[i] - ra)**2 + (dec_val[i] - dec)**2 <= R**2):\n",
    "            nbd.append((i, ra_val[i], dec_val[i]))\n",
    "    return nbd"
   ]
  },
  {
   "cell_type": "code",
   "execution_count": 139,
   "id": "05055697-e2a4-428f-b7b2-6f207aea5ab1",
   "metadata": {},
   "outputs": [
    {
     "name": "stdout",
     "output_type": "stream",
     "text": [
      "time elapsed : 9.053041458129883\n"
     ]
    }
   ],
   "source": [
    "import time \n",
    "start = time.time()\n",
    "\n",
    "#tuple containing all the nearby GRBs\n",
    "#tuple : (id, ra, dec) \n",
    "nbd = []\n",
    "for i in range(len(ra_val)):\n",
    "    nbd.append(nearbyGRB(ra_val[i], dec_val[i], df['ra_val'], df['dec_val']))\n",
    "\n",
    "end = time.time()\n",
    "print('time elapsed : {}'.format(end - start))"
   ]
  },
  {
   "cell_type": "code",
   "execution_count": 58,
   "id": "035533b3-35f3-41c2-94cb-9340bd6d23f2",
   "metadata": {},
   "outputs": [],
   "source": [
    "# import statsmodels.api as sm\n",
    "# sm.tsa.stattools.ccf("
   ]
  },
  {
   "cell_type": "code",
   "execution_count": null,
   "id": "8cc29ed7-1767-4f93-8640-2819e4dccbb7",
   "metadata": {},
   "outputs": [],
   "source": []
  }
 ],
 "metadata": {
  "kernelspec": {
   "display_name": "Python 3 (ipykernel)",
   "language": "python",
   "name": "python3"
  },
  "language_info": {
   "codemirror_mode": {
    "name": "ipython",
    "version": 3
   },
   "file_extension": ".py",
   "mimetype": "text/x-python",
   "name": "python",
   "nbconvert_exporter": "python",
   "pygments_lexer": "ipython3",
   "version": "3.9.7"
  }
 },
 "nbformat": 4,
 "nbformat_minor": 5
}
