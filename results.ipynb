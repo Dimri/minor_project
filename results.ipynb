{
 "cells": [
  {
   "cell_type": "code",
   "execution_count": 2,
   "id": "1afa7678-29e8-42a8-afaa-7a0723cb2eb8",
   "metadata": {},
   "outputs": [],
   "source": [
    "import numpy as np\n",
    "import pandas as pd\n",
    "from datetime import datetime\n",
    "import os\n",
    "from astropy.io import fits\n",
    "import plotly.express as px\n",
    "import matplotlib.pyplot as plt\n",
    "import seaborn as sns\n",
    "\n",
    "import light_curve as lc\n",
    "plt.style.use('seaborn-whitegrid')"
   ]
  },
  {
   "cell_type": "code",
   "execution_count": 3,
   "id": "f3615173-24ff-4978-9481-32e2054008f5",
   "metadata": {},
   "outputs": [],
   "source": [
    "# main dataframe with all info\n",
    "df = pd.read_csv('data/gbmdatacleaned.csv', index_col=0)"
   ]
  },
  {
   "cell_type": "code",
   "execution_count": 4,
   "id": "ccc382fe-2cf7-41df-b505-536847625ff3",
   "metadata": {},
   "outputs": [],
   "source": [
    "# dataframe with reference and target GRB info\n",
    "newdf = pd.read_csv('data/distance_dat_file.csv')"
   ]
  },
  {
   "cell_type": "code",
   "execution_count": 5,
   "id": "37911f2c-3a77-411e-98cf-618112894f27",
   "metadata": {},
   "outputs": [],
   "source": [
    "def get_subset_df(fulldf, sub_df):\n",
    "    ref_rows = []\n",
    "    ref_idx = []\n",
    "    for i in range(sub_df.shape[0]):\n",
    "        x = sub_df.iloc[i].name\n",
    "        df1 = fulldf[:x]\n",
    "        ref_row = df1[df1['Is Reference'] == 1].iloc[-1]\n",
    "        if ref_row.Index not in ref_idx:\n",
    "            ref_rows.append(ref_row)\n",
    "            ref_idx.append(ref_row.Index)\n",
    "    df2 = pd.DataFrame(ref_rows)\n",
    "    return pd.concat([sub_df, df2], sort=False).sort_index()"
   ]
  },
  {
   "cell_type": "code",
   "execution_count": 6,
   "id": "ecd2b743-fffa-4f43-b15e-fbba092facac",
   "metadata": {},
   "outputs": [],
   "source": [
    "def get_dict_from_df(df):\n",
    "    dct = dict()\n",
    "    isref = df['Is Reference'].values\n",
    "    idx = df['Index'].values\n",
    "    for i, (x,y) in enumerate(zip(isref, idx)):\n",
    "        if x:\n",
    "            i += 1\n",
    "            ls = []\n",
    "            while i < len(isref) and isref[i] == 0:\n",
    "                ls.append(idx[i])\n",
    "                i += 1\n",
    "            dct[y] = ls\n",
    "    \n",
    "    return dct"
   ]
  },
  {
   "cell_type": "code",
   "execution_count": 7,
   "id": "3b9ced08-4879-44a5-98dc-8d6b0715fa01",
   "metadata": {},
   "outputs": [],
   "source": [
    "def get_fit_file(name):\n",
    "    d = newdf.loc[newdf['Name'] == name]['Brightest Detector'].values[0]\n",
    "    # try suffix _v01 or _v00\n",
    "    dig = 0\n",
    "    path = ''\n",
    "    while not os.path.exists(path):\n",
    "        path = 'C:/Users/hhsud/Downloads/GRBS/glg_tte_' + d + '_bn' + name[3:] + '_v0' + str(dig) + '.fit'\n",
    "        dig += 1\n",
    "        if dig > 100:\n",
    "            print(path)\n",
    "            raise FileNotFoundError\n",
    "\n",
    "    return fits.open(path)"
   ]
  },
  {
   "cell_type": "code",
   "execution_count": 8,
   "id": "6f153e28",
   "metadata": {},
   "outputs": [],
   "source": [
    "result_subdf = newdf.loc[newdf.Sigma < 0.5, :]\n",
    "resultdf = get_subset_df(newdf, result_subdf)"
   ]
  },
  {
   "cell_type": "code",
   "execution_count": 9,
   "id": "9348506e",
   "metadata": {},
   "outputs": [
    {
     "data": {
      "text/plain": [
       "[0.094, 0.496, 0.029, 0.329, 0.125, 0.029]"
      ]
     },
     "execution_count": 9,
     "metadata": {},
     "output_type": "execute_result"
    }
   ],
   "source": [
    "list(resultdf[resultdf['Is Reference'] == 0].Sigma)"
   ]
  },
  {
   "cell_type": "code",
   "execution_count": 10,
   "id": "9348506e",
   "metadata": {},
   "outputs": [
    {
     "data": {
      "text/plain": [
       "['GRB110911071',\n",
       " 'GRB081006872',\n",
       " 'GRB180412425',\n",
       " 'GRB150404733',\n",
       " 'GRB111107035',\n",
       " 'GRB090510325']"
      ]
     },
     "execution_count": 10,
     "metadata": {},
     "output_type": "execute_result"
    }
   ],
   "source": [
    "list(resultdf[resultdf['Is Reference'] == 0].Name)"
   ]
  },
  {
   "cell_type": "code",
   "execution_count": 11,
   "id": "9348506e",
   "metadata": {},
   "outputs": [
    {
     "data": {
      "text/plain": [
       "['GRB120114433',\n",
       " 'GRB200908886',\n",
       " 'GRB211219910',\n",
       " 'GRB190906767',\n",
       " 'GRB180630335',\n",
       " 'GRB220124074']"
      ]
     },
     "execution_count": 11,
     "metadata": {},
     "output_type": "execute_result"
    }
   ],
   "source": [
    "list(resultdf[resultdf['Is Reference'] == 1].Name)"
   ]
  },
  {
   "cell_type": "code",
   "execution_count": 12,
   "id": "49e01b18",
   "metadata": {},
   "outputs": [],
   "source": [
    "pairs_value = [16, 1260]\n",
    "label_value = ['Less than 2 sigma', 'Pairs Analyzed']"
   ]
  },
  {
   "cell_type": "code",
   "execution_count": 13,
   "id": "b395f36f",
   "metadata": {},
   "outputs": [
    {
     "data": {
      "image/png": "[encoded data removed]",
      "text/plain": [
       "<Figure size 432x288 with 1 Axes>"
      ]
     },
     "metadata": {},
     "output_type": "display_data"
    }
   ],
   "source": [
    "#colors\n",
    "colors = ['#ff9999','#66b3ff','#99ff99','#ffcc99']\n",
    "explode = (0.05,0.05)\n",
    "\n",
    "fig1, ax1 = plt.subplots()\n",
    "ax1.pie(pairs_value, colors = colors, labels=label_value, autopct='%.1f%%', \n",
    "        pctdistance=0.85, startangle=60, textprops={'fontsize':14})\n",
    "#draw circle\n",
    "centre_circle = plt.Circle((0,0),0.75,fc='white')\n",
    "fig = plt.gcf()\n",
    "fig.gca().add_artist(centre_circle)\n",
    "# Equal aspect ratio ensures that pie is drawn as a circle\n",
    "ax1.axis('equal') \n",
    "ax1.set_title('Results', fontsize=20, fontweight='bold')\n",
    "ax1.legend(loc='upper left', fontsize=12) \n",
    "plt.tight_layout()\n",
    "plt.show()"
   ]
  },
  {
   "cell_type": "code",
   "execution_count": 14,
   "id": "88245e8f-d913-4d96-b5e3-efa7581a9595",
   "metadata": {},
   "outputs": [],
   "source": [
    "dct = get_dict_from_df(resultdf)"
   ]
  },
  {
   "cell_type": "code",
   "execution_count": 15,
   "id": "e0f70c8c-a5ac-47cd-9423-bc8bc34adb2b",
   "metadata": {
    "tags": []
   },
   "outputs": [],
   "source": [
    "delays = []\n",
    "for i, (key, value) in enumerate(dct.items()):\n",
    "    ref_time = datetime.strptime(df.trigger_time.iloc[key], '%Y-%m-%d %H:%M:%S.%f')\n",
    "    delays.append(None)\n",
    "    for x in value:\n",
    "        tar_time = datetime.strptime(df.trigger_time.iloc[x], '%Y-%m-%d %H:%M:%S.%f')\n",
    "        delay = abs(ref_time - tar_time)\n",
    "        delays.append(delay)"
   ]
  },
  {
   "cell_type": "code",
   "execution_count": 16,
   "id": "ba5ecdd5-2094-4ef0-9e70-e9898ff0657b",
   "metadata": {},
   "outputs": [],
   "source": [
    "resultdf['Delay'] = delays"
   ]
  },
  {
   "cell_type": "code",
   "execution_count": 17,
   "id": "f5d5b628",
   "metadata": {},
   "outputs": [
    {
     "data": {
      "text/html": [
       "<div>\n",
       "<style scoped>\n",
       "    .dataframe tbody tr th:only-of-type {\n",
       "        vertical-align: middle;\n",
       "    }\n",
       "\n",
       "    .dataframe tbody tr th {\n",
       "        vertical-align: top;\n",
       "    }\n",
       "\n",
       "    .dataframe thead th {\n",
       "        text-align: right;\n",
       "    }\n",
       "</style>\n",
       "<table border=\"1\" class=\"dataframe\">\n",
       "  <thead>\n",
       "    <tr style=\"text-align: right;\">\n",
       "      <th></th>\n",
       "      <th>Index</th>\n",
       "      <th>Is Reference</th>\n",
       "      <th>Name</th>\n",
       "      <th>Brightest Detector</th>\n",
       "      <th>ra</th>\n",
       "      <th>dec</th>\n",
       "      <th>t90</th>\n",
       "      <th>Binsize</th>\n",
       "      <th>Distance</th>\n",
       "      <th>Sigma</th>\n",
       "      <th>Delay</th>\n",
       "    </tr>\n",
       "  </thead>\n",
       "  <tbody>\n",
       "    <tr>\n",
       "      <th>214</th>\n",
       "      <td>49</td>\n",
       "      <td>1</td>\n",
       "      <td>GRB120114433</td>\n",
       "      <td>n0</td>\n",
       "      <td>263.23</td>\n",
       "      <td>-75.64</td>\n",
       "      <td>2.752</td>\n",
       "      <td>1.0</td>\n",
       "      <td>0.0</td>\n",
       "      <td>NaN</td>\n",
       "      <td>NaT</td>\n",
       "    </tr>\n",
       "    <tr>\n",
       "      <th>215</th>\n",
       "      <td>56</td>\n",
       "      <td>0</td>\n",
       "      <td>GRB110911071</td>\n",
       "      <td>n2</td>\n",
       "      <td>258.58</td>\n",
       "      <td>-66.98</td>\n",
       "      <td>8.960</td>\n",
       "      <td>1.0</td>\n",
       "      <td>570.0</td>\n",
       "      <td>0.094</td>\n",
       "      <td>125 days 08:41:57.646000</td>\n",
       "    </tr>\n",
       "    <tr>\n",
       "      <th>266</th>\n",
       "      <td>57</td>\n",
       "      <td>1</td>\n",
       "      <td>GRB200908886</td>\n",
       "      <td>n0</td>\n",
       "      <td>169.53</td>\n",
       "      <td>-66.97</td>\n",
       "      <td>6.144</td>\n",
       "      <td>1.0</td>\n",
       "      <td>0.0</td>\n",
       "      <td>NaN</td>\n",
       "      <td>NaT</td>\n",
       "    </tr>\n",
       "    <tr>\n",
       "      <th>275</th>\n",
       "      <td>271</td>\n",
       "      <td>0</td>\n",
       "      <td>GRB081006872</td>\n",
       "      <td>n6</td>\n",
       "      <td>172.20</td>\n",
       "      <td>-61.00</td>\n",
       "      <td>3.328</td>\n",
       "      <td>1.0</td>\n",
       "      <td>656.0</td>\n",
       "      <td>0.496</td>\n",
       "      <td>4355 days 00:20:05.836000</td>\n",
       "    </tr>\n",
       "    <tr>\n",
       "      <th>397</th>\n",
       "      <td>75</td>\n",
       "      <td>1</td>\n",
       "      <td>GRB211219910</td>\n",
       "      <td>n2</td>\n",
       "      <td>68.54</td>\n",
       "      <td>-63.18</td>\n",
       "      <td>73.729</td>\n",
       "      <td>1.0</td>\n",
       "      <td>0.0</td>\n",
       "      <td>NaN</td>\n",
       "      <td>NaT</td>\n",
       "    </tr>\n",
       "    <tr>\n",
       "      <th>413</th>\n",
       "      <td>309</td>\n",
       "      <td>0</td>\n",
       "      <td>GRB180412425</td>\n",
       "      <td>n6</td>\n",
       "      <td>62.32</td>\n",
       "      <td>-59.01</td>\n",
       "      <td>20.992</td>\n",
       "      <td>1.0</td>\n",
       "      <td>2281.0</td>\n",
       "      <td>0.029</td>\n",
       "      <td>1347 days 11:37:40</td>\n",
       "    </tr>\n",
       "    <tr>\n",
       "      <th>600</th>\n",
       "      <td>103</td>\n",
       "      <td>1</td>\n",
       "      <td>GRB190906767</td>\n",
       "      <td>n4</td>\n",
       "      <td>171.84</td>\n",
       "      <td>-71.57</td>\n",
       "      <td>23.040</td>\n",
       "      <td>1.0</td>\n",
       "      <td>0.0</td>\n",
       "      <td>NaN</td>\n",
       "      <td>NaT</td>\n",
       "    </tr>\n",
       "    <tr>\n",
       "      <th>601</th>\n",
       "      <td>157</td>\n",
       "      <td>0</td>\n",
       "      <td>GRB150404733</td>\n",
       "      <td>n8</td>\n",
       "      <td>165.91</td>\n",
       "      <td>-67.37</td>\n",
       "      <td>4.864</td>\n",
       "      <td>1.0</td>\n",
       "      <td>1068.0</td>\n",
       "      <td>0.329</td>\n",
       "      <td>1616 days 00:50:05.569000</td>\n",
       "    </tr>\n",
       "    <tr>\n",
       "      <th>757</th>\n",
       "      <td>123</td>\n",
       "      <td>1</td>\n",
       "      <td>GRB180630335</td>\n",
       "      <td>n0</td>\n",
       "      <td>133.07</td>\n",
       "      <td>-69.94</td>\n",
       "      <td>48.896</td>\n",
       "      <td>1.0</td>\n",
       "      <td>0.0</td>\n",
       "      <td>NaN</td>\n",
       "      <td>NaT</td>\n",
       "    </tr>\n",
       "    <tr>\n",
       "      <th>760</th>\n",
       "      <td>171</td>\n",
       "      <td>0</td>\n",
       "      <td>GRB111107035</td>\n",
       "      <td>n8</td>\n",
       "      <td>129.48</td>\n",
       "      <td>-66.52</td>\n",
       "      <td>12.032</td>\n",
       "      <td>1.0</td>\n",
       "      <td>1573.0</td>\n",
       "      <td>0.125</td>\n",
       "      <td>2427 days 07:12:33.579000</td>\n",
       "    </tr>\n",
       "    <tr>\n",
       "      <th>1270</th>\n",
       "      <td>179</td>\n",
       "      <td>1</td>\n",
       "      <td>GRB220124074</td>\n",
       "      <td>n0</td>\n",
       "      <td>274.51</td>\n",
       "      <td>-66.17</td>\n",
       "      <td>53.760</td>\n",
       "      <td>1.0</td>\n",
       "      <td>0.0</td>\n",
       "      <td>NaN</td>\n",
       "      <td>NaT</td>\n",
       "    </tr>\n",
       "    <tr>\n",
       "      <th>1278</th>\n",
       "      <td>324</td>\n",
       "      <td>0</td>\n",
       "      <td>GRB090510325</td>\n",
       "      <td>nb</td>\n",
       "      <td>269.40</td>\n",
       "      <td>-57.90</td>\n",
       "      <td>7.424</td>\n",
       "      <td>1.0</td>\n",
       "      <td>1874.0</td>\n",
       "      <td>0.029</td>\n",
       "      <td>4641 days 17:59:20.520000</td>\n",
       "    </tr>\n",
       "  </tbody>\n",
       "</table>\n",
       "</div>"
      ],
      "text/plain": [
       "      Index  Is Reference          Name Brightest Detector      ra    dec  \\\n",
       "214      49             1  GRB120114433                 n0  263.23 -75.64   \n",
       "215      56             0  GRB110911071                 n2  258.58 -66.98   \n",
       "266      57             1  GRB200908886                 n0  169.53 -66.97   \n",
       "275     271             0  GRB081006872                 n6  172.20 -61.00   \n",
       "397      75             1  GRB211219910                 n2   68.54 -63.18   \n",
       "413     309             0  GRB180412425                 n6   62.32 -59.01   \n",
       "600     103             1  GRB190906767                 n4  171.84 -71.57   \n",
       "601     157             0  GRB150404733                 n8  165.91 -67.37   \n",
       "757     123             1  GRB180630335                 n0  133.07 -69.94   \n",
       "760     171             0  GRB111107035                 n8  129.48 -66.52   \n",
       "1270    179             1  GRB220124074                 n0  274.51 -66.17   \n",
       "1278    324             0  GRB090510325                 nb  269.40 -57.90   \n",
       "\n",
       "         t90  Binsize  Distance  Sigma                     Delay  \n",
       "214    2.752      1.0       0.0    NaN                       NaT  \n",
       "215    8.960      1.0     570.0  0.094  125 days 08:41:57.646000  \n",
       "266    6.144      1.0       0.0    NaN                       NaT  \n",
       "275    3.328      1.0     656.0  0.496 4355 days 00:20:05.836000  \n",
       "397   73.729      1.0       0.0    NaN                       NaT  \n",
       "413   20.992      1.0    2281.0  0.029        1347 days 11:37:40  \n",
       "600   23.040      1.0       0.0    NaN                       NaT  \n",
       "601    4.864      1.0    1068.0  0.329 1616 days 00:50:05.569000  \n",
       "757   48.896      1.0       0.0    NaN                       NaT  \n",
       "760   12.032      1.0    1573.0  0.125 2427 days 07:12:33.579000  \n",
       "1270  53.760      1.0       0.0    NaN                       NaT  \n",
       "1278   7.424      1.0    1874.0  0.029 4641 days 17:59:20.520000  "
      ]
     },
     "execution_count": 17,
     "metadata": {},
     "output_type": "execute_result"
    }
   ],
   "source": [
    "resultdf"
   ]
  },
  {
   "cell_type": "code",
   "execution_count": 18,
   "id": "1e820fbd",
   "metadata": {},
   "outputs": [],
   "source": [
    "def roundl(x):\n",
    "    return [round(y,3) for y in x]"
   ]
  },
  {
   "cell_type": "code",
   "execution_count": 19,
   "metadata": {},
   "outputs": [
    {
     "data": {
      "text/plain": [
       "[125.362, 4355.014, 1347.484, 1616.035, 2427.3, 4641.75]"
      ]
     },
     "execution_count": 19,
     "metadata": {},
     "output_type": "execute_result"
    }
   ],
   "source": [
    "delaysns =  resultdf.Delay[resultdf.Delay.notna()].values\n",
    "delayss = delaysns/np.timedelta64(1, 's')\n",
    "delaydays = delaysns / np.timedelta64(1, 'D')\n",
    "roundl(delaydays)"
   ]
  },
  {
   "cell_type": "code",
   "execution_count": 20,
   "id": "26d50cf5",
   "metadata": {},
   "outputs": [],
   "source": [
    "SPEED_OF_LIGHT = 3*(10**8)\n",
    "GRAVITATIONAL_CONSTANT = 6.673*(10**-11)\n",
    "def mass_of_lens(t):\n",
    "    return t * SPEED_OF_LIGHT**3 / GRAVITATIONAL_CONSTANT"
   ]
  },
  {
   "cell_type": "code",
   "execution_count": 21,
   "id": "d6203498",
   "metadata": {},
   "outputs": [
    {
     "data": {
      "text/plain": [
       "[4.382520252390229e+42,\n",
       " 1.5224601464966284e+44,\n",
       " 4.710642619511464e+43,\n",
       " 5.649461936704632e+43,\n",
       " 8.485548249112842e+43,\n",
       " 1.6226994356421397e+44]"
      ]
     },
     "execution_count": 21,
     "metadata": {},
     "output_type": "execute_result"
    }
   ],
   "source": [
    "masses = list(map(mass_of_lens, delayss))\n",
    "masses"
   ]
  },
  {
   "cell_type": "markdown",
   "id": "0924746d-ae26-42d1-bf1b-7aef1227a88f",
   "metadata": {
    "tags": []
   },
   "source": [
    "### Plots of light curve with $\\sigma < 3$\n",
    "Legend : <br>\n",
    "Blue = Reference <br>\n",
    "Green = Target"
   ]
  },
  {
   "cell_type": "code",
   "execution_count": 22,
   "id": "0c193c3c-8584-45cb-817c-f9d646ab2dd8",
   "metadata": {},
   "outputs": [],
   "source": [
    "def make_hist(ref, ref_name, tar, tar_name, info_tuple):\n",
    "    df_ref = lc.df_from_fit_file(ref)\n",
    "    df_tar = lc.df_from_fit_file(tar)\n",
    "    t90_ref = lc.get_t90(ref_name)\n",
    "    t90_tar = lc.get_t90(tar_name)\n",
    "    start1 = -10\n",
    "    end1 = max(t90_ref, t90_tar) + 10\n",
    "    size1 = 0.1 if t90_ref < 2 else 1\n",
    "    size2 = 0.1 if t90_tar < 2 else 1\n",
    "    \n",
    "    fig, axs = plt.subplots(nrows=2, ncols=1, sharex=True)\n",
    "    fig.suptitle(f'Distance : {info_tuple[0]}, Sigma : {info_tuple[1]}, Delay : {info_tuple[2]}', fontsize=16)\n",
    "    ref = axs[0].hist(df_ref.TTIME, bins=int((end1 - start1)/size1), range=(start1,end1),\n",
    "                label = ref_name, histtype='step', color='b')\n",
    "    \n",
    "    tar = axs[1].hist(df_tar.TTIME, bins=int((end1 - start1)/size2), range=(start1,end1),\n",
    "                label = tar_name, histtype='step', color='g')\n",
    "\n",
    "    axs[0].set_ylim([1000,1600])\n",
    "    axs[1].set_ylim([1000,1600])\n",
    "\n",
    "    fig.supxlabel('Time')\n",
    "    fig.supylabel('Counts per sec')\n",
    "    ref[2][0].set_xy(ref[2][0].get_xy()[1:])\n",
    "    tar[2][0].set_xy(tar[2][0].get_xy()[1:])\n",
    "    ref[2][0].set_xy(ref[2][0].get_xy()[:-1])\n",
    "    tar[2][0].set_xy(tar[2][0].get_xy()[:-1])\n",
    "    plt.subplots_adjust(left=0.1,\n",
    "                    bottom=0.1, \n",
    "                    right=0.9, \n",
    "                    top=0.9, \n",
    "                    wspace=0.4, \n",
    "                    hspace=0)\n",
    "    fig.legend(bbox_to_anchor=(0.9,0.5), borderaxespad=0, labels=[ref_name, tar_name], loc='center right')"
   ]
  },
  {
   "cell_type": "code",
   "execution_count": 23,
   "id": "c5ec378d-266a-4794-835b-51703c68b6c5",
   "metadata": {
    "tags": []
   },
   "outputs": [
    {
     "data": {
      "image/png": "[encoded data removed]",
      "text/plain": [
       "<Figure size 432x288 with 2 Axes>"
      ]
     },
     "metadata": {},
     "output_type": "display_data"
    },
    {
     "data": {
      "image/png": "[encoded data removed]",
      "text/plain": [
       "<Figure size 432x288 with 2 Axes>"
      ]
     },
     "metadata": {},
     "output_type": "display_data"
    },
    {
     "data": {
      "image/png": "[encoded data removed]",
      "text/plain": [
       "<Figure size 432x288 with 2 Axes>"
      ]
     },
     "metadata": {},
     "output_type": "display_data"
    },
    {
     "data": {
      "image/png": "[encoded data removed]",
      "text/plain": [
       "<Figure size 432x288 with 2 Axes>"
      ]
     },
     "metadata": {},
     "output_type": "display_data"
    },
    {
     "data": {
      "image/png": "[encoded data removed]",
      "text/plain": [
       "<Figure size 432x288 with 2 Axes>"
      ]
     },
     "metadata": {},
     "output_type": "display_data"
    },
    {
     "data": {
      "image/png": "[encoded data removed]",
      "text/plain": [
       "<Figure size 432x288 with 2 Axes>"
      ]
     },
     "metadata": {},
     "output_type": "display_data"
    }
   ],
   "source": [
    "for i, (key, value) in enumerate(dct.items()):\n",
    "    ref_name = resultdf[resultdf.Index == key]['Name'].values[0]\n",
    "    ref = get_fit_file(ref_name)\n",
    "    for x in value:\n",
    "        tar_name = resultdf[resultdf.Index == x]['Name'].values[0]\n",
    "        tar = get_fit_file(tar_name)\n",
    "        row = resultdf.loc[resultdf.Index == x]\n",
    "        info_tuple = (row.Distance.values[0], row.Sigma.values[0], \n",
    "                    row.Delay.values[0].astype(\"timedelta64[D]\"))\n",
    "        make_hist(ref, ref_name, tar, tar_name, info_tuple)"
   ]
  },
  {
   "cell_type": "markdown",
   "id": "65780bde-66ae-49d2-a8c4-f3711ad34d69",
   "metadata": {},
   "source": [
    "### Time delay vs $\\sigma$"
   ]
  },
  {
   "cell_type": "code",
   "execution_count": 24,
   "id": "587c3945-24fc-4399-a94d-8595db250197",
   "metadata": {
    "tags": []
   },
   "outputs": [],
   "source": [
    "sub_df2 = resultdf.loc[resultdf.Sigma < 0.5, :]\n",
    "df1 = get_subset_df(newdf, sub_df2) "
   ]
  },
  {
   "cell_type": "code",
   "execution_count": 25,
   "id": "4fe4ed73-402a-4b72-b837-521f23844853",
   "metadata": {},
   "outputs": [],
   "source": [
    "df1['Delay_day'] = df1.Delay.apply(lambda x : x.total_seconds() / (3600 * 24))"
   ]
  },
  {
   "cell_type": "code",
   "execution_count": 26,
   "id": "f3056ad4-53ce-4d45-8bb2-f6ae6da9739c",
   "metadata": {
    "tags": []
   },
   "outputs": [
    {
     "data": {
      "application/vnd.plotly.v1+json": {
       "config": {
        "plotlyServerURL": "https://plot.ly"
       },
       "data": [
        {
         "hovertemplate": "Days=%{x}<br>Sigma=%{y}<extra></extra>",
         "legendgroup": "",
         "marker": {
          "color": "#636efa",
          "symbol": "circle"
         },
         "mode": "markers",
         "name": "",
         "orientation": "v",
         "showlegend": false,
         "type": "scatter",
         "x": [
          null,
          125.36247275462962,
          null,
          4355.013956435186,
          null,
          1347.4844907407407,
          null,
          1616.0347866782408,
          null,
          2427.300388645833,
          null,
          4641.7495430555555
         ],
         "xaxis": "x",
         "y": [
          null,
          0.094,
          null,
          0.496,
          null,
          0.029,
          null,
          0.329,
          null,
          0.125,
          null,
          0.029
         ],
         "yaxis": "y"
        }
       ],
       "layout": {
        "legend": {
         "tracegroupgap": 0
        },
        "margin": {
         "t": 60
        },
        "template": {
         "data": {
          "bar": [
           {
            "error_x": {
             "color": "#2a3f5f"
            },
            "error_y": {
             "color": "#2a3f5f"
            },
            "marker": {
             "line": {
              "color": "#E5ECF6",
              "width": 0.5
             },
             "pattern": {
              "fillmode": "overlay",
              "size": 10,
              "solidity": 0.2
             }
            },
            "type": "bar"
           }
          ],
          "barpolar": [
           {
            "marker": {
             "line": {
              "color": "#E5ECF6",
              "width": 0.5
             },
             "pattern": {
              "fillmode": "overlay",
              "size": 10,
              "solidity": 0.2
             }
            },
            "type": "barpolar"
           }
          ],
          "carpet": [
           {
            "aaxis": {
             "endlinecolor": "#2a3f5f",
             "gridcolor": "white",
             "linecolor": "white",
             "minorgridcolor": "white",
             "startlinecolor": "#2a3f5f"
            },
            "baxis": {
             "endlinecolor": "#2a3f5f",
             "gridcolor": "white",
             "linecolor": "white",
             "minorgridcolor": "white",
             "startlinecolor": "#2a3f5f"
            },
            "type": "carpet"
           }
          ],
          "choropleth": [
           {
            "colorbar": {
             "outlinewidth": 0,
             "ticks": ""
            },
            "type": "choropleth"
           }
          ],
          "contour": [
           {
            "colorbar": {
             "outlinewidth": 0,
             "ticks": ""
            },
            "colorscale": [
             [
              0,
              "#0d0887"
             ],
             [
              0.1111111111111111,
              "#46039f"
             ],
             [
              0.2222222222222222,
              "#7201a8"
             ],
             [
              0.3333333333333333,
              "#9c179e"
             ],
             [
              0.4444444444444444,
              "#bd3786"
             ],
             [
              0.5555555555555556,
              "#d8576b"
             ],
             [
              0.6666666666666666,
              "#ed7953"
             ],
             [
              0.7777777777777778,
              "#fb9f3a"
             ],
             [
              0.8888888888888888,
              "#fdca26"
             ],
             [
              1,
              "#f0f921"
             ]
            ],
            "type": "contour"
           }
          ],
          "contourcarpet": [
           {
            "colorbar": {
             "outlinewidth": 0,
             "ticks": ""
            },
            "type": "contourcarpet"
           }
          ],
          "heatmap": [
           {
            "colorbar": {
             "outlinewidth": 0,
             "ticks": ""
            },
            "colorscale": [
             [
              0,
              "#0d0887"
             ],
             [
              0.1111111111111111,
              "#46039f"
             ],
             [
              0.2222222222222222,
              "#7201a8"
             ],
             [
              0.3333333333333333,
              "#9c179e"
             ],
             [
              0.4444444444444444,
              "#bd3786"
             ],
             [
              0.5555555555555556,
              "#d8576b"
             ],
             [
              0.6666666666666666,
              "#ed7953"
             ],
             [
              0.7777777777777778,
              "#fb9f3a"
             ],
             [
              0.8888888888888888,
              "#fdca26"
             ],
             [
              1,
              "#f0f921"
             ]
            ],
            "type": "heatmap"
           }
          ],
          "heatmapgl": [
           {
            "colorbar": {
             "outlinewidth": 0,
             "ticks": ""
            },
            "colorscale": [
             [
              0,
              "#0d0887"
             ],
             [
              0.1111111111111111,
              "#46039f"
             ],
             [
              0.2222222222222222,
              "#7201a8"
             ],
             [
              0.3333333333333333,
              "#9c179e"
             ],
             [
              0.4444444444444444,
              "#bd3786"
             ],
             [
              0.5555555555555556,
              "#d8576b"
             ],
             [
              0.6666666666666666,
              "#ed7953"
             ],
             [
              0.7777777777777778,
              "#fb9f3a"
             ],
             [
              0.8888888888888888,
              "#fdca26"
             ],
             [
              1,
              "#f0f921"
             ]
            ],
            "type": "heatmapgl"
           }
          ],
          "histogram": [
           {
            "marker": {
             "pattern": {
              "fillmode": "overlay",
              "size": 10,
              "solidity": 0.2
             }
            },
            "type": "histogram"
           }
          ],
          "histogram2d": [
           {
            "colorbar": {
             "outlinewidth": 0,
             "ticks": ""
            },
            "colorscale": [
             [
              0,
              "#0d0887"
             ],
             [
              0.1111111111111111,
              "#46039f"
             ],
             [
              0.2222222222222222,
              "#7201a8"
             ],
             [
              0.3333333333333333,
              "#9c179e"
             ],
             [
              0.4444444444444444,
              "#bd3786"
             ],
             [
              0.5555555555555556,
              "#d8576b"
             ],
             [
              0.6666666666666666,
              "#ed7953"
             ],
             [
              0.7777777777777778,
              "#fb9f3a"
             ],
             [
              0.8888888888888888,
              "#fdca26"
             ],
             [
              1,
              "#f0f921"
             ]
            ],
            "type": "histogram2d"
           }
          ],
          "histogram2dcontour": [
           {
            "colorbar": {
             "outlinewidth": 0,
             "ticks": ""
            },
            "colorscale": [
             [
              0,
              "#0d0887"
             ],
             [
              0.1111111111111111,
              "#46039f"
             ],
             [
              0.2222222222222222,
              "#7201a8"
             ],
             [
              0.3333333333333333,
              "#9c179e"
             ],
             [
              0.4444444444444444,
              "#bd3786"
             ],
             [
              0.5555555555555556,
              "#d8576b"
             ],
             [
              0.6666666666666666,
              "#ed7953"
             ],
             [
              0.7777777777777778,
              "#fb9f3a"
             ],
             [
              0.8888888888888888,
              "#fdca26"
             ],
             [
              1,
              "#f0f921"
             ]
            ],
            "type": "histogram2dcontour"
           }
          ],
          "mesh3d": [
           {
            "colorbar": {
             "outlinewidth": 0,
             "ticks": ""
            },
            "type": "mesh3d"
           }
          ],
          "parcoords": [
           {
            "line": {
             "colorbar": {
              "outlinewidth": 0,
              "ticks": ""
             }
            },
            "type": "parcoords"
           }
          ],
          "pie": [
           {
            "automargin": true,
            "type": "pie"
           }
          ],
          "scatter": [
           {
            "marker": {
             "colorbar": {
              "outlinewidth": 0,
              "ticks": ""
             }
            },
            "type": "scatter"
           }
          ],
          "scatter3d": [
           {
            "line": {
             "colorbar": {
              "outlinewidth": 0,
              "ticks": ""
             }
            },
            "marker": {
             "colorbar": {
              "outlinewidth": 0,
              "ticks": ""
             }
            },
            "type": "scatter3d"
           }
          ],
          "scattercarpet": [
           {
            "marker": {
             "colorbar": {
              "outlinewidth": 0,
              "ticks": ""
             }
            },
            "type": "scattercarpet"
           }
          ],
          "scattergeo": [
           {
            "marker": {
             "colorbar": {
              "outlinewidth": 0,
              "ticks": ""
             }
            },
            "type": "scattergeo"
           }
          ],
          "scattergl": [
           {
            "marker": {
             "colorbar": {
              "outlinewidth": 0,
              "ticks": ""
             }
            },
            "type": "scattergl"
           }
          ],
          "scattermapbox": [
           {
            "marker": {
             "colorbar": {
              "outlinewidth": 0,
              "ticks": ""
             }
            },
            "type": "scattermapbox"
           }
          ],
          "scatterpolar": [
           {
            "marker": {
             "colorbar": {
              "outlinewidth": 0,
              "ticks": ""
             }
            },
            "type": "scatterpolar"
           }
          ],
          "scatterpolargl": [
           {
            "marker": {
             "colorbar": {
              "outlinewidth": 0,
              "ticks": ""
             }
            },
            "type": "scatterpolargl"
           }
          ],
          "scatterternary": [
           {
            "marker": {
             "colorbar": {
              "outlinewidth": 0,
              "ticks": ""
             }
            },
            "type": "scatterternary"
           }
          ],
          "surface": [
           {
            "colorbar": {
             "outlinewidth": 0,
             "ticks": ""
            },
            "colorscale": [
             [
              0,
              "#0d0887"
             ],
             [
              0.1111111111111111,
              "#46039f"
             ],
             [
              0.2222222222222222,
              "#7201a8"
             ],
             [
              0.3333333333333333,
              "#9c179e"
             ],
             [
              0.4444444444444444,
              "#bd3786"
             ],
             [
              0.5555555555555556,
              "#d8576b"
             ],
             [
              0.6666666666666666,
              "#ed7953"
             ],
             [
              0.7777777777777778,
              "#fb9f3a"
             ],
             [
              0.8888888888888888,
              "#fdca26"
             ],
             [
              1,
              "#f0f921"
             ]
            ],
            "type": "surface"
           }
          ],
          "table": [
           {
            "cells": {
             "fill": {
              "color": "#EBF0F8"
             },
             "line": {
              "color": "white"
             }
            },
            "header": {
             "fill": {
              "color": "#C8D4E3"
             },
             "line": {
              "color": "white"
             }
            },
            "type": "table"
           }
          ]
         },
         "layout": {
          "annotationdefaults": {
           "arrowcolor": "#2a3f5f",
           "arrowhead": 0,
           "arrowwidth": 1
          },
          "autotypenumbers": "strict",
          "coloraxis": {
           "colorbar": {
            "outlinewidth": 0,
            "ticks": ""
           }
          },
          "colorscale": {
           "diverging": [
            [
             0,
             "#8e0152"
            ],
            [
             0.1,
             "#c51b7d"
            ],
            [
             0.2,
             "#de77ae"
            ],
            [
             0.3,
             "#f1b6da"
            ],
            [
             0.4,
             "#fde0ef"
            ],
            [
             0.5,
             "#f7f7f7"
            ],
            [
             0.6,
             "#e6f5d0"
            ],
            [
             0.7,
             "#b8e186"
            ],
            [
             0.8,
             "#7fbc41"
            ],
            [
             0.9,
             "#4d9221"
            ],
            [
             1,
             "#276419"
            ]
           ],
           "sequential": [
            [
             0,
             "#0d0887"
            ],
            [
             0.1111111111111111,
             "#46039f"
            ],
            [
             0.2222222222222222,
             "#7201a8"
            ],
            [
             0.3333333333333333,
             "#9c179e"
            ],
            [
             0.4444444444444444,
             "#bd3786"
            ],
            [
             0.5555555555555556,
             "#d8576b"
            ],
            [
             0.6666666666666666,
             "#ed7953"
            ],
            [
             0.7777777777777778,
             "#fb9f3a"
            ],
            [
             0.8888888888888888,
             "#fdca26"
            ],
            [
             1,
             "#f0f921"
            ]
           ],
           "sequentialminus": [
            [
             0,
             "#0d0887"
            ],
            [
             0.1111111111111111,
             "#46039f"
            ],
            [
             0.2222222222222222,
             "#7201a8"
            ],
            [
             0.3333333333333333,
             "#9c179e"
            ],
            [
             0.4444444444444444,
             "#bd3786"
            ],
            [
             0.5555555555555556,
             "#d8576b"
            ],
            [
             0.6666666666666666,
             "#ed7953"
            ],
            [
             0.7777777777777778,
             "#fb9f3a"
            ],
            [
             0.8888888888888888,
             "#fdca26"
            ],
            [
             1,
             "#f0f921"
            ]
           ]
          },
          "colorway": [
           "#636efa",
           "#EF553B",
           "#00cc96",
           "#ab63fa",
           "#FFA15A",
           "#19d3f3",
           "#FF6692",
           "#B6E880",
           "#FF97FF",
           "#FECB52"
          ],
          "font": {
           "color": "#2a3f5f"
          },
          "geo": {
           "bgcolor": "white",
           "lakecolor": "white",
           "landcolor": "#E5ECF6",
           "showlakes": true,
           "showland": true,
           "subunitcolor": "white"
          },
          "hoverlabel": {
           "align": "left"
          },
          "hovermode": "closest",
          "mapbox": {
           "style": "light"
          },
          "paper_bgcolor": "white",
          "plot_bgcolor": "#E5ECF6",
          "polar": {
           "angularaxis": {
            "gridcolor": "white",
            "linecolor": "white",
            "ticks": ""
           },
           "bgcolor": "#E5ECF6",
           "radialaxis": {
            "gridcolor": "white",
            "linecolor": "white",
            "ticks": ""
           }
          },
          "scene": {
           "xaxis": {
            "backgroundcolor": "#E5ECF6",
            "gridcolor": "white",
            "gridwidth": 2,
            "linecolor": "white",
            "showbackground": true,
            "ticks": "",
            "zerolinecolor": "white"
           },
           "yaxis": {
            "backgroundcolor": "#E5ECF6",
            "gridcolor": "white",
            "gridwidth": 2,
            "linecolor": "white",
            "showbackground": true,
            "ticks": "",
            "zerolinecolor": "white"
           },
           "zaxis": {
            "backgroundcolor": "#E5ECF6",
            "gridcolor": "white",
            "gridwidth": 2,
            "linecolor": "white",
            "showbackground": true,
            "ticks": "",
            "zerolinecolor": "white"
           }
          },
          "shapedefaults": {
           "line": {
            "color": "#2a3f5f"
           }
          },
          "ternary": {
           "aaxis": {
            "gridcolor": "white",
            "linecolor": "white",
            "ticks": ""
           },
           "baxis": {
            "gridcolor": "white",
            "linecolor": "white",
            "ticks": ""
           },
           "bgcolor": "#E5ECF6",
           "caxis": {
            "gridcolor": "white",
            "linecolor": "white",
            "ticks": ""
           }
          },
          "title": {
           "x": 0.05
          },
          "xaxis": {
           "automargin": true,
           "gridcolor": "white",
           "linecolor": "white",
           "ticks": "",
           "title": {
            "standoff": 15
           },
           "zerolinecolor": "white",
           "zerolinewidth": 2
          },
          "yaxis": {
           "automargin": true,
           "gridcolor": "white",
           "linecolor": "white",
           "ticks": "",
           "title": {
            "standoff": 15
           },
           "zerolinecolor": "white",
           "zerolinewidth": 2
          }
         }
        },
        "xaxis": {
         "anchor": "y",
         "domain": [
          0,
          1
         ],
         "dtick": 250,
         "tick0": 0,
         "tickmode": "linear",
         "title": {
          "text": "Days"
         }
        },
        "yaxis": {
         "anchor": "x",
         "domain": [
          0,
          1
         ],
         "dtick": 0.25,
         "tick0": 0,
         "tickmode": "linear",
         "title": {
          "text": "Sigma"
         }
        }
       }
      }
     },
     "metadata": {},
     "output_type": "display_data"
    }
   ],
   "source": [
    "fig = px.scatter(df1, x='Delay_day', y=df1['Sigma'], labels={'Delay_day':'Days'})\n",
    "fig.update_layout(\n",
    "    xaxis = dict(\n",
    "        tickmode = 'linear',\n",
    "        tick0 = 0,\n",
    "        dtick = 250\n",
    "    ),\n",
    "    yaxis = dict(\n",
    "        tickmode = 'linear',\n",
    "        tick0 = 0,\n",
    "        dtick = 0.25\n",
    "    )\n",
    ")\n",
    "fig.show()"
   ]
  },
  {
   "cell_type": "markdown",
   "id": "7c157031-a72a-40af-a63c-6f277d2bbf73",
   "metadata": {},
   "source": [
    "### T90 ref vs T90 target"
   ]
  },
  {
   "cell_type": "code",
   "execution_count": 27,
   "id": "d1002c46-780e-4a7e-a94a-edd1f178fb3c",
   "metadata": {},
   "outputs": [],
   "source": [
    "t90x = []\n",
    "t90y = []\n",
    "t90x_err = []\n",
    "t90y_err = []\n",
    "sigma_less_1 = []\n",
    "for key, value in dct.items():\n",
    "    a = resultdf.loc[resultdf.Index == key].t90.values[0]\n",
    "    errx = float(df.iloc[key].t90_error)\n",
    "    for x in value:\n",
    "        row = resultdf.loc[resultdf.Index==x]\n",
    "        b = row.t90.values[0]\n",
    "        t90x.append(a)\n",
    "        t90y.append(b)\n",
    "        t90x_err.append(errx)\n",
    "        t90y_err.append(float(df.iloc[x].t90_error))\n",
    "        sigma_less_1.append(row.Sigma.values[0] < 1)"
   ]
  },
  {
   "cell_type": "code",
   "execution_count": 28,
   "id": "64a1a003-709c-4b0a-9737-8c82cb6ea00d",
   "metadata": {},
   "outputs": [],
   "source": [
    "plotdf_t90 = pd.DataFrame({'x':t90x, 'y':t90y, 'sigma_less_1':sigma_less_1})"
   ]
  },
  {
   "cell_type": "code",
   "execution_count": 29,
   "id": "95ab7f24-772c-44ec-85c8-3fde9ec75ee0",
   "metadata": {},
   "outputs": [],
   "source": [
    "plotdf_t90['logx'] = np.log(plotdf_t90.x)\n",
    "plotdf_t90['logy'] = np.log(plotdf_t90.y)"
   ]
  },
  {
   "cell_type": "code",
   "execution_count": 30,
   "id": "aea986c0-bfdd-4ac8-b017-c9784d613c43",
   "metadata": {
    "jupyter": {
     "source_hidden": true
    },
    "tags": []
   },
   "outputs": [],
   "source": [
    "import numpy as np"
   ]
  },
  {
   "cell_type": "code",
   "execution_count": 32,
   "id": "e6b8d693-95a2-4963-ac82-132f231f4bcc",
   "metadata": {},
   "outputs": [],
   "source": [
    "# sns.set_style(\"whitegrid\")\n",
    "# plt.figure(figsize=(18,8))\n",
    "# ax = sns.scatterplot(data=plotdf_t90, x='x', y='y', hue='sigma_less_1', s=100)\n",
    "# # m, b = np.polyfit(plotdf_t90.x, plotdf_t90.y, 1)\n",
    "# # sns.lineplot(x=plotdf_t90.x, y=m*plotdf_t90.x + b, color='g')\n",
    "# plt.errorbar(plotdf_t90.x, plotdf_t90.y, xerr=t90x_err, yerr=t90y_err, fmt='none', ecolor='b', linewidth=1)\n",
    "# handles, labels  =  ax.get_legend_handles_labels()\n",
    "# ax.set_title('T90 Reference vs Target with errors',fontsize=40)\n",
    "# ax.set_ylabel('Target GRB', fontsize=20)\n",
    "# ax.set_xlabel('Reference GRB', fontsize=20)\n",
    "# ax.legend(handles, ['< 3 sigma', '< 1 sigma'], loc='lower right', frameon=True, fontsize=16)"
   ]
  },
  {
   "cell_type": "code",
   "execution_count": 33,
   "id": "d1005c3c-dcb3-4db2-bcce-ec1e374723df",
   "metadata": {},
   "outputs": [],
   "source": [
    "# sns.set_style(\"whitegrid\")\n",
    "# plt.figure(figsize=(20,10))\n",
    "# ax = sns.scatterplot(data=plotdf_t90, x='logx', y='logy', hue='sigma_less_1', s=100)\n",
    "# # m, b = np.polyfit(plotdf_t90.x, plotdf_t90.y, 1)\n",
    "# # sns.lineplot(x=plotdf_t90.x, y=m*plotdf_t90.x + b, color='g')\n",
    "# # plt.errorbar(plotdf_t90.logx, plotdf_t90.logy, xerr=np.log(np.array(t90x_err)), yerr=np.log(np.array(t90y_err)), fmt='none', ecolor='b', linewidth=1)\n",
    "# handles, labels  =  ax.get_legend_handles_labels()\n",
    "# ax.set_title('T90 Reference vs Target with errors',fontsize=40)\n",
    "# ax.set_ylabel('Target GRB', fontsize=20)\n",
    "# ax.set_xlabel('Reference GRB', fontsize=20)\n",
    "# ax.legend(handles, ['< 3 sigma', '< 1 sigma'], loc='lower right', frameon=True, fontsize=16)"
   ]
  },
  {
   "cell_type": "code",
   "execution_count": 86,
   "metadata": {},
   "outputs": [],
   "source": [
    "from scipy.optimize import curve_fit\n",
    "\n",
    "def powerlaw(x, a, b) :\n",
    "    return a * np.power(x, b)"
   ]
  },
  {
   "cell_type": "code",
   "execution_count": 87,
   "id": "d81ee8dd",
   "metadata": {},
   "outputs": [],
   "source": [
    "popt, pcov = curve_fit(powerlaw, plotdf_t90.x, plotdf_t90.y)\n",
    "fittedy = [powerlaw(x, popt[0], popt[1]) for x in plotdf_t90.x]"
   ]
  },
  {
   "cell_type": "code",
   "execution_count": 88,
   "id": "2d09252f-ee1b-4ec2-887c-677c68b1ff16",
   "metadata": {},
   "outputs": [
    {
     "data": {
      "text/plain": [
       "<matplotlib.legend.Legend at 0x1739c0af790>"
      ]
     },
     "execution_count": 88,
     "metadata": {},
     "output_type": "execute_result"
    },
    {
     "data": {
      "image/png": "[encoded data removed]",
      "text/plain": [
       "<Figure size 432x288 with 1 Axes>"
      ]
     },
     "metadata": {},
     "output_type": "display_data"
    }
   ],
   "source": [
    "sns.set_style(\"whitegrid\")\n",
    "ax = sns.scatterplot(data=plotdf_t90, x='x', y='y')\n",
    "plt.plot(plotdf_t90.x, fittedy, '--', label='power law fit line')\n",
    "handles, labels  =  ax.get_legend_handles_labels()\n",
    "ax.set_title('T90 Reference vs Target', fontweight='bold', fontsize=16)\n",
    "plt.errorbar(plotdf_t90.x, plotdf_t90.y, xerr=t90x_err, yerr=t90y_err, fmt='none', ecolor='r', linewidth=1, alpha=0.4,\n",
    "            label='errors')\n",
    "ax.set_xscale('log')\n",
    "ax.set_yscale('log')\n",
    "ax.set_ylabel('Target GRB', fontsize=12)\n",
    "ax.set_xlabel('Reference GRB', fontsize=12)\n",
    "ax.legend(frameon=True, fontsize=12)"
   ]
  },
  {
   "cell_type": "code",
   "execution_count": 37,
   "id": "0c3be030-2015-4d02-9523-dd82c50f9ae3",
   "metadata": {},
   "outputs": [],
   "source": [
    "# sns.set_style(\"whitegrid\")\n",
    "# plt.figure(figsize=(18,8))\n",
    "# ax = sns.scatterplot(data=plotdf_t90, x='x', y='y', hue='sigma_less_1', s=100)\n",
    "# m, b = np.polyfit(plotdf_t90.x, plotdf_t90.y, 1)\n",
    "# sns.lineplot(x=plotdf_t90.x, y=m*plotdf_t90.x + b, color='g')\n",
    "# plt.errorbar(plotdf_t90.x, plotdf_t90.y, xerr=t90x_err, yerr=t90y_err, fmt='none', ecolor='b', linewidth=1)\n",
    "# handles, labels  =  ax.get_legend_handles_labels()\n",
    "# ax.set_title('T90 Reference vs Target with regression line',fontsize=30)\n",
    "# ax.set_ylabel('Target T90', fontsize=16)\n",
    "# ax.set_xlabel('Reference T90', fontsize=16)\n",
    "# ax.legend(handles, ['< 3 sigma', '< 1 sigma'], loc='lower right', frameon=True, fontsize=12)"
   ]
  },
  {
   "cell_type": "markdown",
   "id": "a3b2f6a8-f994-4016-81cf-e117580bf4a0",
   "metadata": {},
   "source": [
    "### Fluence ref vs Fluence target"
   ]
  },
  {
   "cell_type": "code",
   "execution_count": 89,
   "id": "910f1f41-45ec-4bdd-b7db-12174f799165",
   "metadata": {},
   "outputs": [],
   "source": [
    "fluencex = []\n",
    "fluencey = []\n",
    "fx_err = []\n",
    "fy_err = []\n",
    "sigma_less_1 = []\n",
    "for key, value in dct.items():\n",
    "    a = df.iloc[key].fluence\n",
    "    for x in value:\n",
    "        row = resultdf.loc[resultdf.Index == x]\n",
    "        b = df.iloc[x].fluence\n",
    "        fluencex.append(a)\n",
    "        fluencey.append(b)\n",
    "        fx_err.append(df.iloc[key].fluence_error)\n",
    "        fy_err.append(df.iloc[x].fluence_error)\n",
    "        sigma_less_1.append(row.Sigma.values[0] < 1)"
   ]
  },
  {
   "cell_type": "code",
   "execution_count": 90,
   "id": "18b7d9b4",
   "metadata": {},
   "outputs": [],
   "source": [
    "def floatify(arr):\n",
    "    return [float(x) for x in arr]"
   ]
  },
  {
   "cell_type": "code",
   "execution_count": 91,
   "id": "ce095b3f-785c-45b8-88ba-00f2d6fd267a",
   "metadata": {},
   "outputs": [],
   "source": [
    "fluencex = floatify(fluencex)\n",
    "fluencey = floatify(fluencey)\n",
    "fx_err = floatify(fx_err)\n",
    "fy_err = floatify(fy_err)"
   ]
  },
  {
   "cell_type": "code",
   "execution_count": 92,
   "id": "03e9b39b-8919-4839-b32b-8d67ee415cfc",
   "metadata": {},
   "outputs": [],
   "source": [
    "plotdf_fluence = pd.DataFrame({'x':fluencex, 'y':fluencey, 'x_err':fx_err, 'y_err':fy_err})"
   ]
  },
  {
   "cell_type": "code",
   "execution_count": 93,
   "id": "043394a2-db1b-4f90-b94c-a4f133824706",
   "metadata": {},
   "outputs": [],
   "source": [
    "plotdf_fluence['logx'] = np.log(plotdf_fluence.x)\n",
    "plotdf_fluence['logy'] = np.log(plotdf_fluence.y)"
   ]
  },
  {
   "cell_type": "code",
   "execution_count": 94,
   "id": "84735a8e",
   "metadata": {},
   "outputs": [],
   "source": [
    "from scipy.optimize import curve_fit\n",
    "\n",
    "def powerlaw(x, a, b) :\n",
    "    return a * np.power(x, b)"
   ]
  },
  {
   "cell_type": "code",
   "execution_count": 95,
   "id": "d81ee8dd",
   "metadata": {},
   "outputs": [],
   "source": [
    "popt, pcov = curve_fit(powerlaw, plotdf_fluence.x, plotdf_fluence.y)\n",
    "fittedy = [powerlaw(x, popt[0], popt[1]) for x in plotdf_fluence.x]"
   ]
  },
  {
   "cell_type": "code",
   "execution_count": 96,
   "id": "f39a0d8e-6517-46b5-a6b3-72954fa424ee",
   "metadata": {},
   "outputs": [
    {
     "data": {
      "text/plain": [
       "<matplotlib.legend.Legend at 0x1739d1a8580>"
      ]
     },
     "execution_count": 96,
     "metadata": {},
     "output_type": "execute_result"
    },
    {
     "data": {
      "image/png": "[encoded data removed]",
      "text/plain": [
       "<Figure size 432x288 with 1 Axes>"
      ]
     },
     "metadata": {},
     "output_type": "display_data"
    }
   ],
   "source": [
    "ax = sns.scatterplot(data=plotdf_fluence, x='x', y='y')\n",
    "plt.plot(plotdf_fluence.x, fittedy, '--', label='power law fit line')\n",
    "plt.errorbar(plotdf_fluence.x, plotdf_fluence.y, xerr=fx_err, yerr=fy_err, fmt='none', ecolor='r', linewidth=1, alpha=0.4\n",
    "            ,label='error')\n",
    "handles, labels  =  ax.get_legend_handles_labels()\n",
    "ax.set_title('Fluence Reference vs Target', fontweight='bold', fontsize=16)\n",
    "ax.set_ylabel('Target GRB', fontsize=12)\n",
    "ax.set_xlabel('Reference GRB', fontsize=12)\n",
    "ax.set_xscale('log')\n",
    "ax.set_yscale('log')\n",
    "ax.legend(frameon=True, fontsize=12)\n",
    "# ax.legend(handles, ['< 3 sigma', '< 1 sigma'], loc='lower right', frameon=True)"
   ]
  },
  {
   "cell_type": "markdown",
   "id": "b19605b8-51a6-4fc2-9e2e-e67c45b226be",
   "metadata": {},
   "source": [
    "### Distribution of delays"
   ]
  },
  {
   "cell_type": "code",
   "execution_count": 45,
   "id": "ffb6a7d3-c19d-4daf-82fc-b0f5457ac049",
   "metadata": {
    "tags": []
   },
   "outputs": [],
   "source": [
    "sub_df3 = resultdf.loc[resultdf.Sigma < 0.5, :]\n",
    "df2 = get_subset_df(newdf, sub_df3) "
   ]
  },
  {
   "cell_type": "code",
   "execution_count": 46,
   "id": "527f178a-eb85-4726-adda-d8ceb3dc5f7b",
   "metadata": {},
   "outputs": [],
   "source": [
    "df2['Delay_day'] = df2.Delay.apply(lambda x : x.total_seconds() / (3600 * 24))"
   ]
  },
  {
   "cell_type": "code",
   "execution_count": 47,
   "id": "b0fd9b4c-9112-4544-a218-53646a61a67c",
   "metadata": {},
   "outputs": [],
   "source": [
    "delay_days = [x for x in df2.Delay_day if not np.isnan(x)]"
   ]
  },
  {
   "cell_type": "code",
   "execution_count": 48,
   "id": "e2dda8cc-7564-460f-a4ae-ef4f5a4ef30a",
   "metadata": {},
   "outputs": [
    {
     "data": {
      "text/plain": [
       "Text(0.5, 1.0, 'Delay Days Distribution, sigma < 1')"
      ]
     },
     "execution_count": 48,
     "metadata": {},
     "output_type": "execute_result"
    },
    {
     "data": {
      "image/png": "[encoded data removed]",
      "text/plain": [
       "<Figure size 432x288 with 1 Axes>"
      ]
     },
     "metadata": {},
     "output_type": "display_data"
    }
   ],
   "source": [
    "plt.hist(delay_days)\n",
    "plt.xlabel('Days')\n",
    "plt.title('Delay Days Distribution, sigma < 1', fontsize=20)"
   ]
  },
  {
   "cell_type": "code",
   "execution_count": 49,
   "id": "78e32eff-6ab2-4fd8-8e5b-a8c5580f9a78",
   "metadata": {},
   "outputs": [],
   "source": [
    "resultdf['Delay_day'] = resultdf.Delay.apply(lambda x : x.total_seconds() / (3600 * 24))"
   ]
  },
  {
   "cell_type": "code",
   "execution_count": 50,
   "id": "2a7502f0-9154-47bc-bc1e-c4ee5203bf5f",
   "metadata": {},
   "outputs": [],
   "source": [
    "delay_days = [x for x in resultdf.Delay_day if not np.isnan(x)]"
   ]
  },
  {
   "cell_type": "code",
   "execution_count": 51,
   "id": "297e28d1-867d-412b-a5c3-025a03a5d538",
   "metadata": {},
   "outputs": [
    {
     "data": {
      "text/plain": [
       "Text(0.5, 1.0, 'Delay Days Distribution, sigma < 3')"
      ]
     },
     "execution_count": 51,
     "metadata": {},
     "output_type": "execute_result"
    },
    {
     "data": {
      "image/png": "[encoded data removed]",
      "text/plain": [
       "<Figure size 432x288 with 1 Axes>"
      ]
     },
     "metadata": {},
     "output_type": "display_data"
    }
   ],
   "source": [
    "plt.hist(delay_days)\n",
    "plt.xlabel('Days')\n",
    "plt.title('Delay Days Distribution, sigma < 3', fontsize=20)"
   ]
  }
 ],
 "metadata": {
  "kernelspec": {
   "display_name": "Python 3 (ipykernel)",
   "language": "python",
   "name": "python3"
  },
  "language_info": {
   "codemirror_mode": {
    "name": "ipython",
    "version": 3
   },
   "file_extension": ".py",
   "mimetype": "text/x-python",
   "name": "python",
   "nbconvert_exporter": "python",
   "pygments_lexer": "ipython3",
   "version": "3.9.12"
  },
  "vscode": {
   "interpreter": {
    "hash": "1c96efd641c8edc4becd0add2d213e7ec84c37270ea5e51cc70d926f1fea797b"
   }
  }
 },
 "nbformat": 4,
 "nbformat_minor": 5
}
