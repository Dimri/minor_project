{
 "cells": [
  {
   "cell_type": "code",
   "execution_count": 110,
   "id": "9ea04879-729b-4dd8-a240-457d95f20827",
   "metadata": {},
   "outputs": [],
   "source": [
    "# open the neighbourhood GRB pickled file\n",
    "with open('data/nbd_array', 'rb') as f:\n",
    "    nbd = pickle.load(f)"
   ]
  },
  {
   "cell_type": "markdown",
   "id": "f6b8c047-cac6-4a95-a194-be844d32e095",
   "metadata": {},
   "source": [
    "Comparing the GRB's :\n",
    "\n",
    "`(2, [6,17,23])`\n",
    "\n",
    "2 = GRB141205018  ; this is the center \n",
    "\n",
    "6 = GRB150312403\n",
    "\n",
    "17 = GRB170130697\n",
    "\n",
    "23 = GRB220415645"
   ]
  },
  {
   "cell_type": "code",
   "execution_count": 115,
   "id": "ecde52d1-8386-4815-81d6-dea833ae7588",
   "metadata": {},
   "outputs": [
    {
     "name": "stdout",
     "output_type": "stream",
     "text": [
      "[10, 13, 26]\n"
     ]
    }
   ],
   "source": [
    "# get the ra and dec values of grbs to compare\n",
    "lcdf = pd.read_csv('data/gbmdatacleaned.csv', index_col=0) # light curve data frame\n",
    "\n",
    "grb_index = nbd[7][1].copy() # copy neighborhood indices list\n",
    "grb_index.insert(0, nbd[7][0]) # insert the center index at 0th pos\n",
    "print(grb_index)\n",
    "\n",
    "# ra-dec, name of selected grbs\n",
    "ra = [] \n",
    "dec = [] \n",
    "grbnames = [] \n",
    "for i in grb_index:\n",
    "    ra.append(lcdf.iloc[i].ra_val)\n",
    "    dec.append(lcdf.iloc[i].dec_val)\n",
    "    grbnames.append(lcdf.name.iloc[i])\n",
    "\n",
    "grbnumbers = [x[3:] for x in grbnames] # GRB number"
   ]
  },
  {
   "cell_type": "code",
   "execution_count": 116,
   "id": "328d4999-afcb-4d73-9957-b571dacca219",
   "metadata": {},
   "outputs": [],
   "source": [
    "grbt90 = [lc.get_t90(name) for name in grbnames] # t90's\n",
    "grbbinsize = [lc.binsize(t90) for t90 in grbt90] # bin sizes"
   ]
  },
  {
   "cell_type": "code",
   "execution_count": 118,
   "id": "f77def4e-5bf6-4085-8e2e-4e7aa7cf6f68",
   "metadata": {},
   "outputs": [
    {
     "data": {
      "text/plain": [
       "['n8', 'n8', 'n9']"
      ]
     },
     "execution_count": 118,
     "metadata": {},
     "output_type": "execute_result"
    }
   ],
   "source": [
    "# find the name of the brightest NaI detector\n",
    "\n",
    "detectors = [] # brightest detector name\n",
    "for i in range(len(grb_index)):\n",
    "    # try suffix _v01 or _v00\n",
    "    try:\n",
    "        b = esad.angle_to_grb(ra[i],\n",
    "                          dec[i],\n",
    "                          '/Users/dimrisudhanshu/Downloads/current/glg_trigdat_all_bn' + grbnumbers[i] + '_v01.fit')\n",
    "    except:\n",
    "        b = esad.angle_to_grb(ra[i],\n",
    "                          dec[i],\n",
    "                          '/Users/dimrisudhanshu/Downloads/current/glg_trigdat_all_bn' + grbnumbers[i] + '_v02.fit')\n",
    "    detectors.append(b[0])\n",
    "\n",
    "detectors"
   ]
  },
  {
   "cell_type": "code",
   "execution_count": 119,
   "id": "c8722fa5-e3c0-473e-9809-ad4a8392f002",
   "metadata": {},
   "outputs": [],
   "source": [
    "# open the fits file corresponding to the brightest NaI detectors\n",
    "fitfiles = []\n",
    "for i in range(len(grb_index)):\n",
    "    try:\n",
    "        fitfile = fits.open('/Users/dimrisudhanshu/Downloads/current/glg_tte_' + detectors[i] + '_bn' + grbnumbers[i] + '_v00.fit')\n",
    "    except:\n",
    "        fitfile = fits.open('/Users/dimrisudhanshu/Downloads/current/glg_tte_' + detectors[i] + '_bn' + grbnumbers[i] + '_v01.fit')\n",
    "    \n",
    "    fitfiles.append(fitfile)"
   ]
  },
  {
   "cell_type": "code",
   "execution_count": 120,
   "id": "73d96473-b6a9-4235-a9de-e5862b7c92bf",
   "metadata": {},
   "outputs": [
    {
     "name": "stdout",
     "output_type": "stream",
     "text": [
      "DTW : 0.0\n",
      "DTW : 57991.0\n",
      "DTW : 23236.0\n"
     ]
    },
    {
     "data": {
      "image/png": "[encoded data removed]",
      "text/plain": [
       "<Figure size 432x288 with 1 Axes>"
      ]
     },
     "metadata": {
      "needs_background": "light"
     },
     "output_type": "display_data"
    }
   ],
   "source": [
    "referenceLC = lc.getLightCurve(fitfiles[0]) # reference fit file\n",
    "ref_name = fitfiles[0][0].header['OBJECT'] # GRB name of reference\n",
    "distance_list = [] # for DTW distances\n",
    "for fitfile in fitfiles:\n",
    "    targetLC = lc.getLightCurve(fitfile) # target fit file\n",
    "    tar_name = fitfile[0].header['OBJECT'] # GRB name of target\n",
    "    d = lc.getDTW(referenceLC, targetLC, ref_name, tar_name) # get DTW distance\n",
    "    distance_list.append(d)\n",
    "    print(f'DTW : {d}')"
   ]
  },
  {
   "cell_type": "code",
   "execution_count": 121,
   "id": "e598ec9c-6908-414c-9ab2-14a0ecc92faf",
   "metadata": {},
   "outputs": [],
   "source": [
    "def simulate(fitfile, num, size = 0):\n",
    "    '''\n",
    "    function to simulate light curves with poisson distribution\n",
    "    fitfile = GRB to simulate\n",
    "    size = binsize of GRB\n",
    "    num = number of simulated curves\n",
    "    '''\n",
    "    reference = lc.getLightCurve(fitfile, size)\n",
    "    simcurves = [] # for simulated curves\n",
    "    for i in range(num):\n",
    "        curve = []\n",
    "        for n in reference:\n",
    "            curve.append(poisson.rvs(mu = n, size = 1)[0])\n",
    "        simcurves.append(curve)\n",
    "    \n",
    "    return simcurves"
   ]
  },
  {
   "cell_type": "code",
   "execution_count": 122,
   "id": "a73a68ea-209a-46d5-8474-51802586d16b",
   "metadata": {
    "tags": []
   },
   "outputs": [
    {
     "name": "stdout",
     "output_type": "stream",
     "text": [
      "Total time = 10.03177809715271\n"
     ]
    },
    {
     "data": {
      "image/png": "[encoded data removed]",
      "text/plain": [
       "<Figure size 432x288 with 1 Axes>"
      ]
     },
     "metadata": {
      "needs_background": "light"
     },
     "output_type": "display_data"
    }
   ],
   "source": [
    "start_time = time.time()\n",
    "\n",
    "simulated_curves = simulate(fitfiles[0], 100)\n",
    "dtw_list = []\n",
    "for curve in simulated_curves:\n",
    "    d = lc.getDTW(referenceLC, curve, '', '')\n",
    "    dtw_list.append(d)\n",
    "    \n",
    "end_time = time.time()\n",
    "\n",
    "print(f'Total time = {end_time - start_time}')"
   ]
  },
  {
   "cell_type": "code",
   "execution_count": 123,
   "id": "f42e6fa6-33e3-47be-ac9e-b973afd14ebb",
   "metadata": {},
   "outputs": [
    {
     "data": {
      "image/png": "[encoded data removed]",
      "text/plain": [
       "<Figure size 432x288 with 1 Axes>"
      ]
     },
     "metadata": {
      "needs_background": "light"
     },
     "output_type": "display_data"
    }
   ],
   "source": [
    "# mean and standard deviation of simulated dtw distance\n",
    "mu, std = norm.fit(dtw_list)\n",
    "\n",
    "# plot hist + normal distribution\n",
    "plt.hist(dtw_list, density=True, color='g')\n",
    "xmin, xmax = plt.xlim()\n",
    "x = np.linspace(xmin, xmax, 100)\n",
    "p = norm.pdf(x, mu, std)\n",
    "plt.plot(x, p, 'k', linewidth=2)\n",
    "\n",
    "# dtw distance of target curves\n",
    "# for x in distance_list:\n",
    "#     plt.axvline(x)\n",
    "\n",
    "# number of stdev away from mean\n",
    "stddev = []\n",
    "for d in distance_list:\n",
    "    stddev.append((abs(mu - d))/std)\n",
    "\n",
    "# for x, y in zip(distance_list, stddev):\n",
    "#     if y <= 10:\n",
    "#         plt.axvline(x)"
   ]
  },
  {
   "cell_type": "code",
   "execution_count": 124,
   "id": "2d60aebf-fed8-4223-8d4f-768ece6922a4",
   "metadata": {},
   "outputs": [],
   "source": [
    "isref = [1] + [0] * (len(grbnames) - 1)"
   ]
  },
  {
   "cell_type": "code",
   "execution_count": 127,
   "id": "6edc888a-719b-4a2b-b2b2-cb4caf5d062a",
   "metadata": {},
   "outputs": [],
   "source": [
    "datadf1 = pd.read_csv('data/distance_dat_file.csv')\n",
    "\n",
    "datadf = pd.DataFrame({'Index':grb_index, 'Is Reference': isref, 'Name':grbnames, 'Number':grbnumbers,\n",
    "                       'Brightest Detector':detectors, 'ra': ra, 'dec':dec,\n",
    "                       't90':grbt90, 'Binsize':grbbinsize, 'Distance':distance_list,\n",
    "                       'Sigma':stddev})"
   ]
  },
  {
   "cell_type": "code",
   "execution_count": 128,
   "id": "4b957e96-0a4c-49ac-922a-625a22549f01",
   "metadata": {},
   "outputs": [
    {
     "data": {
      "text/html": [
       "<div>\n",
       "<style scoped>\n",
       "    .dataframe tbody tr th:only-of-type {\n",
       "        vertical-align: middle;\n",
       "    }\n",
       "\n",
       "    .dataframe tbody tr th {\n",
       "        vertical-align: top;\n",
       "    }\n",
       "\n",
       "    .dataframe thead th {\n",
       "        text-align: right;\n",
       "    }\n",
       "</style>\n",
       "<table border=\"1\" class=\"dataframe\">\n",
       "  <thead>\n",
       "    <tr style=\"text-align: right;\">\n",
       "      <th></th>\n",
       "      <th>Index</th>\n",
       "      <th>Is Reference</th>\n",
       "      <th>Name</th>\n",
       "      <th>Number</th>\n",
       "      <th>Brightest Detector</th>\n",
       "      <th>ra</th>\n",
       "      <th>dec</th>\n",
       "      <th>t90</th>\n",
       "      <th>Binsize</th>\n",
       "      <th>Distance</th>\n",
       "      <th>Sigma</th>\n",
       "    </tr>\n",
       "  </thead>\n",
       "  <tbody>\n",
       "    <tr>\n",
       "      <th>0</th>\n",
       "      <td>10</td>\n",
       "      <td>1</td>\n",
       "      <td>GRB101227195</td>\n",
       "      <td>101227195</td>\n",
       "      <td>n8</td>\n",
       "      <td>186.79</td>\n",
       "      <td>-83.55</td>\n",
       "      <td>95.488</td>\n",
       "      <td>1</td>\n",
       "      <td>0.0</td>\n",
       "      <td>15.919308</td>\n",
       "    </tr>\n",
       "    <tr>\n",
       "      <th>1</th>\n",
       "      <td>13</td>\n",
       "      <td>0</td>\n",
       "      <td>GRB160326062</td>\n",
       "      <td>160326062</td>\n",
       "      <td>n8</td>\n",
       "      <td>188.15</td>\n",
       "      <td>-82.69</td>\n",
       "      <td>19.456</td>\n",
       "      <td>1</td>\n",
       "      <td>57991.0</td>\n",
       "      <td>265.164198</td>\n",
       "    </tr>\n",
       "    <tr>\n",
       "      <th>2</th>\n",
       "      <td>26</td>\n",
       "      <td>0</td>\n",
       "      <td>GRB080714425</td>\n",
       "      <td>080714425</td>\n",
       "      <td>n9</td>\n",
       "      <td>187.50</td>\n",
       "      <td>-74.00</td>\n",
       "      <td>40.192</td>\n",
       "      <td>1</td>\n",
       "      <td>23236.0</td>\n",
       "      <td>96.706036</td>\n",
       "    </tr>\n",
       "  </tbody>\n",
       "</table>\n",
       "</div>"
      ],
      "text/plain": [
       "   Index  Is Reference          Name     Number Brightest Detector      ra  \\\n",
       "0     10             1  GRB101227195  101227195                 n8  186.79   \n",
       "1     13             0  GRB160326062  160326062                 n8  188.15   \n",
       "2     26             0  GRB080714425  080714425                 n9  187.50   \n",
       "\n",
       "     dec     t90  Binsize  Distance       Sigma  \n",
       "0 -83.55  95.488        1       0.0   15.919308  \n",
       "1 -82.69  19.456        1   57991.0  265.164198  \n",
       "2 -74.00  40.192        1   23236.0   96.706036  "
      ]
     },
     "execution_count": 128,
     "metadata": {},
     "output_type": "execute_result"
    }
   ],
   "source": [
    "datadf.head()"
   ]
  },
  {
   "cell_type": "code",
   "execution_count": 125,
   "id": "19dea9ad-967a-467e-823b-833563e2667d",
   "metadata": {},
   "outputs": [],
   "source": [
    "new_datadf = pd.concat([datadf1, datadf]).reset_index(drop=True)\n",
    "\n",
    "new_datadf.to_csv('data/distance_dat_file.csv', index=False)"
   ]
  },
  {
   "cell_type": "code",
   "execution_count": 126,
   "id": "96a983f4-d211-4b2f-9782-d25f1e06fbc4",
   "metadata": {},
   "outputs": [
    {
     "data": {
      "text/plain": [
       "[(0, [3]),\n",
       " (2, [6, 17, 23]),\n",
       " (3, [12]),\n",
       " (4, [7]),\n",
       " (5, [6]),\n",
       " (7, [34]),\n",
       " (8, [11, 29]),\n",
       " (10, [13, 26]),\n",
       " (11, [27, 29, 50]),\n",
       " (12, [16, 28])]"
      ]
     },
     "execution_count": 126,
     "metadata": {},
     "output_type": "execute_result"
    }
   ],
   "source": [
    "nbd[:10]"
   ]
  },
  {
   "cell_type": "code",
   "execution_count": 108,
   "id": "05fa051e-bd73-4234-b037-5ac4f494544e",
   "metadata": {},
   "outputs": [
    {
     "name": "stdout",
     "output_type": "stream",
     "text": [
      "['120403857', '180630467']\n",
      "['141205018', '150312403', '170130697', '220415645']\n",
      "['180630467', '200607921']\n",
      "['170116238', '110520302']\n",
      "['091026550', '150312403']\n",
      "['110520302', '101024486']\n",
      "['121216419', '220430900', '171206122']\n",
      "['101227195', '160326062', '080714425']\n",
      "['220430900', '100507577', '171206122', '170121067']\n",
      "['200607921', '101116481', '200907957']\n"
     ]
    }
   ],
   "source": [
    "# get the ra and dec values of grbs to compare\n",
    "lcdf = pd.read_csv('data/gbmdatacleaned.csv', index_col=0) # light curve data frame\n",
    "\n",
    "for x in nbd[:10]:\n",
    "    grb_index = x[1].copy() # copy neighborhood indices list\n",
    "    grb_index.insert(0, x[0]) # insert the center index at 0th pos\n",
    "    # print(grb_index)\n",
    "\n",
    "    # ra-dec, name of selected grbs\n",
    "    ra = [] \n",
    "    dec = [] \n",
    "    grbnames = [] \n",
    "    for i in grb_index:\n",
    "        ra.append(lcdf.iloc[i].ra_val)\n",
    "        dec.append(lcdf.iloc[i].dec_val)\n",
    "        grbnames.append(lcdf.name.iloc[i])\n",
    "\n",
    "    grbnumbers = [x[3:] for x in grbnames] # GRB number\n",
    "    print(grbnumbers)"
   ]
  },
  {
   "cell_type": "code",
   "execution_count": null,
   "id": "923e63ab-84a5-4d36-a2f0-86bdae322a27",
   "metadata": {},
   "outputs": [],
   "source": []
  }
 ],
 "metadata": {
  "kernelspec": {
   "display_name": "Python 3.9.12 ('base')",
   "language": "python",
   "name": "python3"
  },
  "language_info": {
   "codemirror_mode": {
    "name": "ipython",
    "version": 3
   },
   "file_extension": ".py",
   "mimetype": "text/x-python",
   "name": "python",
   "nbconvert_exporter": "python",
   "pygments_lexer": "ipython3",
   "version": "3.9.12"
  },
  "vscode": {
   "interpreter": {
    "hash": "1c96efd641c8edc4becd0add2d213e7ec84c37270ea5e51cc70d926f1fea797b"
   }
  }
 },
 "nbformat": 4,
 "nbformat_minor": 5
}
