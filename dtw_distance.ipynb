{
 "cells": [
  {
   "cell_type": "code",
   "execution_count": 1,
   "id": "5c8e828e-ea3d-441e-a6ef-5b9e67bac573",
   "metadata": {},
   "outputs": [],
   "source": [
    "import pandas as pd\n",
    "import numpy as np\n",
    "from astropy.io import fits\n",
    "import matplotlib.pyplot as plt\n",
    "from dtw import dtw\n",
    "from scipy.stats import poisson, norm\n",
    "import time\n",
    "import pickle\n",
    "\n",
    "import light_curve as lc\n",
    "import estimate_source_angles_detectors as esad"
   ]
  },
  {
   "cell_type": "code",
   "execution_count": 2,
   "id": "9ea04879-729b-4dd8-a240-457d95f20827",
   "metadata": {},
   "outputs": [],
   "source": [
    "# open the neighbourhood GRB pickled file\n",
    "with open('data/nbd_array', 'rb') as f:\n",
    "    nbd = pickle.load(f)"
   ]
  },
  {
   "cell_type": "markdown",
   "id": "f6b8c047-cac6-4a95-a194-be844d32e095",
   "metadata": {},
   "source": [
    "Comparing the GRB's :\n",
    "\n",
    "`(2, [6,17,23])`\n",
    "\n",
    "2 = GRB141205018  ; this is the center \n",
    "\n",
    "6 = GRB150312403\n",
    "\n",
    "17 = GRB170130697\n",
    "\n",
    "23 = GRB220415645"
   ]
  },
  {
   "cell_type": "code",
   "execution_count": 27,
   "id": "ecde52d1-8386-4815-81d6-dea833ae7588",
   "metadata": {},
   "outputs": [
    {
     "name": "stdout",
     "output_type": "stream",
     "text": [
      "[2, 6, 17, 23]\n"
     ]
    }
   ],
   "source": [
    "# get the ra and dec values of grbs to compare\n",
    "lcdf = pd.read_csv('data/gbmdatacleaned.csv', index_col=0) # light curve data frame\n",
    "\n",
    "grb_index = nbd[1][1].copy()\n",
    "grb_index.insert(0, nbd[1][0])\n",
    "print(grb_index)\n",
    "\n",
    "# ra-dec, name of selected grbs\n",
    "ra = [] \n",
    "dec = [] \n",
    "grbnames = [] \n",
    "for i in grb_index:\n",
    "    ra.append(lcdf.iloc[i].ra_val)\n",
    "    dec.append(lcdf.iloc[i].dec_val)\n",
    "    grbnames.append(lcdf.name.iloc[i])\n",
    "\n",
    "grbnumbers = [x[3:] for x in grbnames] # GRB number"
   ]
  },
  {
   "cell_type": "code",
   "execution_count": 30,
   "id": "328d4999-afcb-4d73-9957-b571dacca219",
   "metadata": {},
   "outputs": [],
   "source": [
    "grbt90 = [lc.get_t90(name) for name in grbnames]\n",
    "grbbinsize = [lc.binsize(t90) for t90 in grbt90]"
   ]
  },
  {
   "cell_type": "code",
   "execution_count": 4,
   "id": "f77def4e-5bf6-4085-8e2e-4e7aa7cf6f68",
   "metadata": {},
   "outputs": [
    {
     "data": {
      "text/plain": [
       "['n8', 'n3', 'n3', 'n2']"
      ]
     },
     "execution_count": 4,
     "metadata": {},
     "output_type": "execute_result"
    }
   ],
   "source": [
    "# find the name of the brightest NaI detector\n",
    "\n",
    "detectors = [] # brightest detector name\n",
    "for i in range(len(grb_index)):\n",
    "    # try suffix _v01 or _v00\n",
    "    try:\n",
    "        b = esad.angle_to_grb(ra[i],\n",
    "                          dec[i],\n",
    "                          '/Users/dimrisudhanshu/Downloads/current/glg_trigdat_all_bn' + grbnumbers[i] + '_v01.fit')\n",
    "    except:\n",
    "        b = esad.angle_to_grb(ra[i],\n",
    "                          dec[i],\n",
    "                          '/Users/dimrisudhanshu/Downloads/current/glg_trigdat_all_bn' + grbnumbers[i] + '_v00.fit')\n",
    "    detectors.append(b[0])\n",
    "\n",
    "detectors"
   ]
  },
  {
   "cell_type": "code",
   "execution_count": 22,
   "id": "c8722fa5-e3c0-473e-9809-ad4a8392f002",
   "metadata": {},
   "outputs": [],
   "source": [
    "# open the fits file corresponding to the brightest NaI detectors\n",
    "fitfile1 = fits.open('/Users/dimrisudhanshu/Downloads/current/glg_tte_' + detectors[0] + '_bn' + grbnumbers[0] + '_v00.fit')\n",
    "fitfile2 = fits.open('/Users/dimrisudhanshu/Downloads/current/glg_tte_' + detectors[1] + '_bn' + grbnumbers[1] + '_v01.fit')\n",
    "fitfile3 = fits.open('/Users/dimrisudhanshu/Downloads/current/glg_tte_' + detectors[2] + '_bn' + grbnumbers[2] + '_v00.fit')\n",
    "fitfile4 = fits.open('/Users/dimrisudhanshu/Downloads/current/glg_tte_' + detectors[3] + '_bn' + grbnumbers[3] + '_v00.fit')\n",
    "\n",
    "fitfiles = [fitfile1, fitfile2, fitfile3, fitfile4]"
   ]
  },
  {
   "cell_type": "code",
   "execution_count": 23,
   "id": "73d96473-b6a9-4235-a9de-e5862b7c92bf",
   "metadata": {},
   "outputs": [
    {
     "name": "stdout",
     "output_type": "stream",
     "text": [
      "DTW : 0.0\n",
      "DTW : 211693.0\n",
      "DTW : 2762.0\n",
      "DTW : 1169.0\n"
     ]
    },
    {
     "data": {
      "image/png": "[encoded data removed]",
      "text/plain": [
       "<Figure size 432x288 with 1 Axes>"
      ]
     },
     "metadata": {
      "needs_background": "light"
     },
     "output_type": "display_data"
    }
   ],
   "source": [
    "referenceLC = lc.getLightCurve(fitfile1) # reference fit file\n",
    "ref_name = fitfile1[0].header['OBJECT'] # GRB name of reference\n",
    "distance_list = [] # for DTW distances\n",
    "for fitfile in fitfiles:\n",
    "    targetLC = lc.getLightCurve(fitfile) # target fit file\n",
    "    tar_name = fitfile[0].header['OBJECT'] # GRB name of target\n",
    "    d = lc.getDTW(referenceLC, targetLC, ref_name, tar_name) # get DTW distance\n",
    "    distance_list.append(d)\n",
    "    print(f'DTW : {d}')"
   ]
  },
  {
   "cell_type": "code",
   "execution_count": 38,
   "id": "e598ec9c-6908-414c-9ab2-14a0ecc92faf",
   "metadata": {},
   "outputs": [],
   "source": [
    "def simulate(fitfile, num, size = 0):\n",
    "    '''\n",
    "    function to simulate light curves with poisson distribution\n",
    "    fitfile = GRB to simulate\n",
    "    size = binsize of GRB\n",
    "    num = number of simulated curves\n",
    "    '''\n",
    "    reference = lc.getLightCurve(fitfile, size)\n",
    "    simcurves = [] # for simulated curves\n",
    "    for i in range(num):\n",
    "        curve = []\n",
    "        for n in reference:\n",
    "            curve.append(poisson.rvs(mu = n, size = 1)[0])\n",
    "        simcurves.append(curve)\n",
    "    \n",
    "    return simcurves"
   ]
  },
  {
   "cell_type": "code",
   "execution_count": 50,
   "id": "a73a68ea-209a-46d5-8474-51802586d16b",
   "metadata": {
    "tags": []
   },
   "outputs": [
    {
     "name": "stdout",
     "output_type": "stream",
     "text": [
      "Total time = 4.642714738845825\n"
     ]
    },
    {
     "data": {
      "image/png": "[encoded data removed]",
      "text/plain": [
       "<Figure size 432x288 with 1 Axes>"
      ]
     },
     "metadata": {
      "needs_background": "light"
     },
     "output_type": "display_data"
    }
   ],
   "source": [
    "start_time = time.time()\n",
    "\n",
    "simulated_curves = simulate(fitfile1, 100)\n",
    "dtw_list = []\n",
    "for curve in simulated_curves:\n",
    "    d = lc.getDTW(referenceLC, curve, '', '')\n",
    "    dtw_list.append(d)\n",
    "    \n",
    "end_time = time.time()\n",
    "\n",
    "print(f'Total time = {end_time - start_time}')"
   ]
  },
  {
   "cell_type": "code",
   "execution_count": 51,
   "id": "d4875edb-4c29-4c6a-897b-51c32eb2220e",
   "metadata": {},
   "outputs": [
    {
     "data": {
      "image/png": "[encoded data removed]",
      "text/plain": [
       "<Figure size 432x288 with 1 Axes>"
      ]
     },
     "metadata": {
      "needs_background": "light"
     },
     "output_type": "display_data"
    }
   ],
   "source": [
    "# mean and standard deviation of simulated dtw distance\n",
    "mu, std = norm.fit(dtw_list)\n",
    "\n",
    "# plot hist + normal distribution\n",
    "plt.hist(dtw_list, density=True, color='g')\n",
    "xmin, xmax = plt.xlim()\n",
    "x = np.linspace(xmin, xmax, 100)\n",
    "p = norm.pdf(x, mu, std)\n",
    "plt.plot(x, p, 'k', linewidth=2)\n",
    "\n",
    "# dtw distance of target curves\n",
    "plt.axvline(distance_list[0], color='r')\n",
    "plt.axvline(distance_list[2], color='g')\n",
    "plt.axvline(distance_list[3], color='b')\n",
    "\n",
    "# number of stdev away from mean\n",
    "stddev = []\n",
    "for d in distance_list:\n",
    "    stddev.append((abs(mu - d))/std)"
   ]
  },
  {
   "cell_type": "code",
   "execution_count": 55,
   "id": "1cf037f9-af4f-4441-88db-b35742845517",
   "metadata": {},
   "outputs": [],
   "source": [
    "datadf = pd.DataFrame({'Index':grb_index, 'Name':grbnames, 'Number':grbnumbers,\n",
    "                       'Brightest Detector':detectors, 'ra': ra, 'dec':dec,\n",
    "                       't90':grbt90, 'Binsize':grbbinsize, 'Distance':distance_list,\n",
    "                       'Sigma':stddev})"
   ]
  },
  {
   "cell_type": "code",
   "execution_count": 53,
   "id": "6e7682b8-b499-464a-9641-8ece0211e5b9",
   "metadata": {},
   "outputs": [
    {
     "data": {
      "text/html": [
       "<div>\n",
       "<style scoped>\n",
       "    .dataframe tbody tr th:only-of-type {\n",
       "        vertical-align: middle;\n",
       "    }\n",
       "\n",
       "    .dataframe tbody tr th {\n",
       "        vertical-align: top;\n",
       "    }\n",
       "\n",
       "    .dataframe thead th {\n",
       "        text-align: right;\n",
       "    }\n",
       "</style>\n",
       "<table border=\"1\" class=\"dataframe\">\n",
       "  <thead>\n",
       "    <tr style=\"text-align: right;\">\n",
       "      <th></th>\n",
       "      <th>Index</th>\n",
       "      <th>Name</th>\n",
       "      <th>Number</th>\n",
       "      <th>Brightest Detector</th>\n",
       "      <th>ra</th>\n",
       "      <th>dec</th>\n",
       "      <th>t90</th>\n",
       "      <th>Binsize</th>\n",
       "      <th>Distance</th>\n",
       "      <th>Sigma</th>\n",
       "    </tr>\n",
       "  </thead>\n",
       "  <tbody>\n",
       "    <tr>\n",
       "      <th>0</th>\n",
       "      <td>2</td>\n",
       "      <td>GRB141205018</td>\n",
       "      <td>141205018</td>\n",
       "      <td>n8</td>\n",
       "      <td>294.61</td>\n",
       "      <td>-87.58</td>\n",
       "      <td>13.056</td>\n",
       "      <td>1.0</td>\n",
       "      <td>0.0</td>\n",
       "      <td>7.539159</td>\n",
       "    </tr>\n",
       "    <tr>\n",
       "      <th>1</th>\n",
       "      <td>6</td>\n",
       "      <td>GRB150312403</td>\n",
       "      <td>150312403</td>\n",
       "      <td>n3</td>\n",
       "      <td>285.49</td>\n",
       "      <td>-86.00</td>\n",
       "      <td>0.320</td>\n",
       "      <td>0.1</td>\n",
       "      <td>211693.0</td>\n",
       "      <td>1925.397573</td>\n",
       "    </tr>\n",
       "    <tr>\n",
       "      <th>2</th>\n",
       "      <td>17</td>\n",
       "      <td>GRB170130697</td>\n",
       "      <td>170130697</td>\n",
       "      <td>n3</td>\n",
       "      <td>296.39</td>\n",
       "      <td>-80.45</td>\n",
       "      <td>29.184</td>\n",
       "      <td>1.0</td>\n",
       "      <td>2762.0</td>\n",
       "      <td>17.680245</td>\n",
       "    </tr>\n",
       "    <tr>\n",
       "      <th>3</th>\n",
       "      <td>23</td>\n",
       "      <td>GRB220415645</td>\n",
       "      <td>220415645</td>\n",
       "      <td>n2</td>\n",
       "      <td>298.38</td>\n",
       "      <td>-79.82</td>\n",
       "      <td>23.040</td>\n",
       "      <td>1.0</td>\n",
       "      <td>1169.0</td>\n",
       "      <td>3.134803</td>\n",
       "    </tr>\n",
       "  </tbody>\n",
       "</table>\n",
       "</div>"
      ],
      "text/plain": [
       "   Index          Name     Number Brightest Detector      ra    dec     t90  \\\n",
       "0      2  GRB141205018  141205018                 n8  294.61 -87.58  13.056   \n",
       "1      6  GRB150312403  150312403                 n3  285.49 -86.00   0.320   \n",
       "2     17  GRB170130697  170130697                 n3  296.39 -80.45  29.184   \n",
       "3     23  GRB220415645  220415645                 n2  298.38 -79.82  23.040   \n",
       "\n",
       "   Binsize  Distance        Sigma  \n",
       "0      1.0       0.0     7.539159  \n",
       "1      0.1  211693.0  1925.397573  \n",
       "2      1.0    2762.0    17.680245  \n",
       "3      1.0    1169.0     3.134803  "
      ]
     },
     "execution_count": 53,
     "metadata": {},
     "output_type": "execute_result"
    }
   ],
   "source": [
    "datadf.head()"
   ]
  },
  {
   "cell_type": "markdown",
   "id": "61cb733a-2398-497a-8524-fe5c9fb8076e",
   "metadata": {},
   "source": [
    "Doubt : \n",
    "---\n",
    "1. Reference light curve has 7 sigma difference with itself"
   ]
  }
 ],
 "metadata": {
  "kernelspec": {
   "display_name": "Python 3 (ipykernel)",
   "language": "python",
   "name": "python3"
  },
  "language_info": {
   "codemirror_mode": {
    "name": "ipython",
    "version": 3
   },
   "file_extension": ".py",
   "mimetype": "text/x-python",
   "name": "python",
   "nbconvert_exporter": "python",
   "pygments_lexer": "ipython3",
   "version": "3.9.7"
  }
 },
 "nbformat": 4,
 "nbformat_minor": 5
}
