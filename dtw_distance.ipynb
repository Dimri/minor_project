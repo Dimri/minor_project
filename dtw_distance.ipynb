{
 "cells": [
  {
   "cell_type": "code",
   "execution_count": 7,
   "id": "5c8e828e-ea3d-441e-a6ef-5b9e67bac573",
   "metadata": {},
   "outputs": [],
   "source": [
    "import pandas as pd\n",
    "import numpy as np\n",
    "from astropy.io import fits\n",
    "import matplotlib.pyplot as plt\n",
    "from dtw import dtw\n",
    "import light_curve as lc\n",
    "from scipy.stats import poisson, norm\n",
    "import time"
   ]
  },
  {
   "cell_type": "code",
   "execution_count": 2,
   "id": "9ea04879-729b-4dd8-a240-457d95f20827",
   "metadata": {},
   "outputs": [],
   "source": [
    "import pickle\n",
    "\n",
    "with open('data/nbd_array', 'rb') as f:\n",
    "    nbd = pickle.load(f)"
   ]
  },
  {
   "cell_type": "markdown",
   "id": "f6b8c047-cac6-4a95-a194-be844d32e095",
   "metadata": {},
   "source": [
    "Comparing the GRB's :\n",
    "\n",
    "`(2, [6,17,23])`\n",
    "\n",
    "2 = GRB141205018  ; this is the center \n",
    "\n",
    "6 = GRB150312403\n",
    "\n",
    "17 = GRB170130697\n",
    "\n",
    "23 = GRB220415645"
   ]
  },
  {
   "cell_type": "code",
   "execution_count": 3,
   "id": "f14adc04-58c7-4498-8314-696ef47a1ee2",
   "metadata": {},
   "outputs": [
    {
     "data": {
      "text/plain": [
       "[6, 17, 23]"
      ]
     },
     "execution_count": 3,
     "metadata": {},
     "output_type": "execute_result"
    }
   ],
   "source": [
    "nbd[1][1]"
   ]
  },
  {
   "cell_type": "code",
   "execution_count": 4,
   "id": "ecde52d1-8386-4815-81d6-dea833ae7588",
   "metadata": {},
   "outputs": [
    {
     "name": "stdout",
     "output_type": "stream",
     "text": [
      "[2, 6, 17, 23]\n"
     ]
    }
   ],
   "source": [
    "# get the ra and dec values of grbs to compare\n",
    "lcdf = pd.read_csv('data/gbmdatacleaned.csv', index_col=0) # light curve data frame\n",
    "\n",
    "grb_index = nbd[1][1].copy()\n",
    "grb_index.insert(0, nbd[1][0])\n",
    "print(grb_index)\n",
    "\n",
    "ra = [] #to hold ra values\n",
    "dec = [] #to hold dec values\n",
    "grbnames = []\n",
    "for i in grb_index:\n",
    "    ra.append(lcdf.iloc[i].ra_val)\n",
    "    dec.append(lcdf.iloc[i].dec_val)\n",
    "    grbnames.append(lcdf.name.iloc[i])\n",
    "\n",
    "grbnumbers = [x[3:] for x in grbnames]"
   ]
  },
  {
   "cell_type": "code",
   "execution_count": 5,
   "id": "f77def4e-5bf6-4085-8e2e-4e7aa7cf6f68",
   "metadata": {},
   "outputs": [
    {
     "name": "stdout",
     "output_type": "stream",
     "text": [
      "n8\n",
      "n3\n",
      "n3\n",
      "n2\n"
     ]
    }
   ],
   "source": [
    "# find the name of the brightest NaI detector\n",
    "import estimate_source_angles_detectors as esad\n",
    "\n",
    "for i in range(len(grb_index)):\n",
    "    b = esad.angle_to_grb(ra[i],\n",
    "                          dec[i],\n",
    "                          '/Users/dimrisudhanshu/Downloads/current/glg_trigdat_all_bn' + grbnumbers[i] + '_v01.fit')\n",
    "    print(b[0])"
   ]
  },
  {
   "cell_type": "code",
   "execution_count": 8,
   "id": "c8722fa5-e3c0-473e-9809-ad4a8392f002",
   "metadata": {},
   "outputs": [],
   "source": [
    "# open the fits file corresponding to the brightest NaI detectors\n",
    "fitfile1 = fits.open('/Users/dimrisudhanshu/Downloads/current/glg_tte_n3_bn150312403_v01.fit')\n",
    "fitfile2 = fits.open('/Users/dimrisudhanshu/Downloads/current/glg_tte_n3_bn170130697_v00.fit')\n",
    "fitfile3 = fits.open('/Users/dimrisudhanshu/Downloads/current/glg_tte_n8_bn141205018_v00.fit')\n",
    "fitfile4 = fits.open('/Users/dimrisudhanshu/Downloads/current/glg_tte_n2_bn'+grbnumbers[3]+'_v00.fit')\n",
    "\n",
    "fitfiles = [fitfile2, fitfile3, fitfile4]"
   ]
  },
  {
   "cell_type": "code",
   "execution_count": 10,
   "id": "73d96473-b6a9-4235-a9de-e5862b7c92bf",
   "metadata": {},
   "outputs": [
    {
     "name": "stdout",
     "output_type": "stream",
     "text": [
      "DTW : 193570.0\n",
      "DTW : 211693.0\n",
      "DTW : 205974.0\n"
     ]
    }
   ],
   "source": [
    "referenceLC = lc.getLightCurve(fitfile1)\n",
    "ref_name = fitfile1[0].header['OBJECT']\n",
    "distance_list = []\n",
    "for fitfile in fitfiles:\n",
    "    targetLC = lc.getLightCurve(fitfile)\n",
    "    tar_name = fitfile[0].header['OBJECT']\n",
    "    d = lc.getDTW(referenceLC, targetLC, ref_name, tar_name)\n",
    "    distance_list.append(d)\n",
    "    print(f'DTW : {d}')"
   ]
  },
  {
   "cell_type": "code",
   "execution_count": 11,
   "id": "e598ec9c-6908-414c-9ab2-14a0ecc92faf",
   "metadata": {},
   "outputs": [],
   "source": [
    "def simulate(fitfile, size, num):\n",
    "    '''\n",
    "    function to simulate light curves with poisson distribution\n",
    "    fitfile = GRB to simulate\n",
    "    size = binsize of GRB\n",
    "    num = number of simulated curves\n",
    "    '''\n",
    "    reference = lc.getLightCurve(fitfile, size)\n",
    "    simcurves = []\n",
    "    for i in range(num):\n",
    "        curve = []\n",
    "        for n in reference:\n",
    "            curve.append(poisson.rvs(mu = n, size = 1)[0])\n",
    "        simcurves.append(curve)\n",
    "    \n",
    "    return simcurves"
   ]
  },
  {
   "cell_type": "code",
   "execution_count": 13,
   "id": "a73a68ea-209a-46d5-8474-51802586d16b",
   "metadata": {
    "tags": []
   },
   "outputs": [
    {
     "name": "stdout",
     "output_type": "stream",
     "text": [
      "Total time = 22.959607124328613\n"
     ]
    }
   ],
   "source": [
    "start_time = time.time()\n",
    "simulated_curves = simulate(fitfile1, 1, 1000)\n",
    "dtw_list = []\n",
    "for curve in simulated_curves:\n",
    "    d = lc.getDTW(referenceLC, curve, '', '')\n",
    "    dtw_list.append(d)\n",
    "end_time = time.time()\n",
    "\n",
    "print(f'Total time = {end_time - start_time}')"
   ]
  },
  {
   "cell_type": "code",
   "execution_count": 58,
   "id": "d4875edb-4c29-4c6a-897b-51c32eb2220e",
   "metadata": {},
   "outputs": [
    {
     "name": "stdout",
     "output_type": "stream",
     "text": [
      "5.542429712542277\n",
      "10.264671239468086\n",
      "8.77449305194457\n"
     ]
    },
    {
     "data": {
      "image/png": "[encoded data removed]",
      "text/plain": [
       "<Figure size 432x288 with 1 Axes>"
      ]
     },
     "metadata": {
      "needs_background": "light"
     },
     "output_type": "display_data"
    }
   ],
   "source": [
    "# mean and standard deviation of simulated dtw distance\n",
    "mu, std = norm.fit(dtw_list)\n",
    "\n",
    "# plot hist + normal distribution\n",
    "plt.hist(dtw_list, density=True, color='g')\n",
    "xmin, xmax = plt.xlim()\n",
    "x = np.linspace(xmin, xmax, 100)\n",
    "p = norm.pdf(x, mu, std)\n",
    "plt.plot(x, p, 'k', linewidth=2)\n",
    "\n",
    "# dtw distance of target curves\n",
    "plt.axvline(distance_list[0], color='r')\n",
    "plt.axvline(distance_list[1], color='g')\n",
    "plt.axvline(distance_list[2], color='b')\n",
    "\n",
    "# number of stdev away from mean\n",
    "for d in distance_list:\n",
    "    print((abs(mu - d))/std)"
   ]
  },
  {
   "cell_type": "code",
   "execution_count": null,
   "id": "6e7682b8-b499-464a-9641-8ece0211e5b9",
   "metadata": {},
   "outputs": [],
   "source": []
  }
 ],
 "metadata": {
  "kernelspec": {
   "display_name": "Python 3 (ipykernel)",
   "language": "python",
   "name": "python3"
  },
  "language_info": {
   "codemirror_mode": {
    "name": "ipython",
    "version": 3
   },
   "file_extension": ".py",
   "mimetype": "text/x-python",
   "name": "python",
   "nbconvert_exporter": "python",
   "pygments_lexer": "ipython3",
   "version": "3.9.7"
  }
 },
 "nbformat": 4,
 "nbformat_minor": 5
}
