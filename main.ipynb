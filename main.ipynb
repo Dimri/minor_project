{
 "cells": [
  {
   "cell_type": "code",
   "execution_count": 2,
   "id": "5c9eeedd-b043-4768-91e3-6d1488a5d8fd",
   "metadata": {},
   "outputs": [],
   "source": [
    "import numpy as np\n",
    "import pandas as pd\n",
    "\n",
    "#read the given text file, using separator as '|'\n",
    "df = pd.read_csv('gbmdata02032022.txt', skiprows = 4, sep = '|')\n",
    "\n",
    "df = df.reset_index(drop = True)\n",
    "#remove the first unnecessary column 'Unnamed : 0'\n",
    "df.drop(['Unnamed: 0'], inplace = True, axis = 1)\n",
    "\n",
    "#remove the extra spaces in the column names\n",
    "df.columns = [x.strip() for x in df.columns.values]\n",
    "\n",
    "#packages to read ra and dec \n",
    "#convert b/w hrs and deg easily\n",
    "from astropy.coordinates import SkyCoord, FK4\n",
    "import astropy.units as u\n",
    "\n",
    "#make a new column concatenating 'ra' and 'dec'\n",
    "df['RD'] = df['ra'] + df['dec']\n",
    "\n",
    "#there are some NaN values in RD columns\n",
    "#removing all the rows which have NaN in RD column\n",
    "df = df.dropna(axis = 0, subset = ['RD'])\n",
    "\n",
    "#remove rows from 3231 to 3233\n",
    "df = df.drop(df.index[[3231,3232,3233]])\n",
    "#resetting index\n",
    "df.reset_index(drop = True, inplace = True)"
   ]
  },
  {
   "cell_type": "code",
   "execution_count": 3,
   "id": "b41841de-018a-42c1-a3e4-27c5e7e42581",
   "metadata": {},
   "outputs": [],
   "source": [
    "#numpy array of SkyCoord tuple (ra, dec)\n",
    "radec = np.array([SkyCoord(x, frame = FK4, unit = (u.hourangle, u.deg), obstime = \"J2000\") for x in df['RD']])\n",
    "\n",
    "#add two new columns with ra and dec values \n",
    "df['ra_val'] = np.array([x.ra.value for x in radec])\n",
    "df['dec_val'] = np.array([x.dec.value for x in radec])"
   ]
  },
  {
   "cell_type": "code",
   "execution_count": 44,
   "id": "cc08c9dc-43c0-4aad-a2cb-a9e3c96ee9cb",
   "metadata": {},
   "outputs": [],
   "source": [
    "#saving the cleaned data frame into a file\n",
    "df.to_csv('gbmdatacleaned.csv')"
   ]
  },
  {
   "cell_type": "code",
   "execution_count": 4,
   "id": "9df45153-7235-4ab2-b7aa-267aad485778",
   "metadata": {},
   "outputs": [],
   "source": [
    "R = 10 #radius in degrees"
   ]
  },
  {
   "cell_type": "code",
   "execution_count": 8,
   "id": "1916d224-5856-4b3d-86cb-ad9adaf9110a",
   "metadata": {},
   "outputs": [],
   "source": [
    "#find nearbyGRB in a 'R' degree radius\n",
    "#n = index (center of circle)\n",
    "#ra_val = ra values , dec_val = dec values\n",
    "def nearbyGRB(n, ra_val, dec_val):\n",
    "    nbd = []\n",
    "    ra = ra_val[n]\n",
    "    dec = dec_val[n]\n",
    "    for i in range(n+1, len(ra_val)):\n",
    "        if ra_val[i] == ra or dec_val[i] == dec:\n",
    "            continue\n",
    "        if((ra_val[i] - ra)**2 + (dec_val[i] - dec)**2 <= R**2):\n",
    "            nbd.append(i)\n",
    "    return nbd"
   ]
  },
  {
   "cell_type": "code",
   "execution_count": 9,
   "id": "05055697-e2a4-428f-b7b2-6f207aea5ab1",
   "metadata": {},
   "outputs": [
    {
     "name": "stdout",
     "output_type": "stream",
     "text": [
      "time elapsed : 218.98552799224854\n"
     ]
    }
   ],
   "source": [
    "import time \n",
    "start = time.time()\n",
    "\n",
    "#tuple containing all the nearby GRBs\n",
    "#tuple : (id, ra, dec) \n",
    "# index value = center of the circle\n",
    "# id corresponds to ra/dec\n",
    "\n",
    "nbd = []\n",
    "for i in range(len(df['ra_val'])):\n",
    "    nbd.append(nearbyGRB(i, df['ra_val'], df['dec_val']))\n",
    "\n",
    "end = time.time()\n",
    "print('time elapsed : {}'.format(end - start))"
   ]
  },
  {
   "cell_type": "code",
   "execution_count": 41,
   "id": "b57629bf-6ad5-42b4-b838-517f50e50677",
   "metadata": {},
   "outputs": [],
   "source": [
    "#saving nbd array as a file\n",
    "with open('nbd.npy', 'wb') as f:\n",
    "    np.save(f, nbd, allow_pickle = True)"
   ]
  }
 ],
 "metadata": {
  "kernelspec": {
   "display_name": "Python 3 (ipykernel)",
   "language": "python",
   "name": "python3"
  },
  "language_info": {
   "codemirror_mode": {
    "name": "ipython",
    "version": 3
   },
   "file_extension": ".py",
   "mimetype": "text/x-python",
   "name": "python",
   "nbconvert_exporter": "python",
   "pygments_lexer": "ipython3",
   "version": "3.9.7"
  }
 },
 "nbformat": 4,
 "nbformat_minor": 5
}
