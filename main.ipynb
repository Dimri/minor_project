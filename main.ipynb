{
 "cells": [
  {
   "cell_type": "code",
   "execution_count": 31,
   "id": "cb8fa6c4-1953-43f3-9da2-492a575ac84d",
   "metadata": {},
   "outputs": [],
   "source": [
    "import numpy as np\n",
    "import pandas as pd\n",
    "# packages to read ra and dec ; convert b/w hrs and deg easily\n",
    "from astropy.coordinates import SkyCoord, FK4\n",
    "import astropy.units as u\n",
    "import time\n",
    "import pickle"
   ]
  },
  {
   "cell_type": "code",
   "execution_count": 32,
   "id": "900b750a-852c-441f-a5fe-793bfe7d15ad",
   "metadata": {},
   "outputs": [],
   "source": [
    "# read the given text file, using separator as '|'\n",
    "df = pd.read_csv('grbdata27052022.txt', skiprows = 4, sep = '|')\n",
    "\n",
    "# remove the first unnecessary column 'Unnamed : 0'\n",
    "df.drop(['Unnamed: 0', 'Unnamed: 33'], inplace = True, axis = 1) \n",
    "\n",
    "# remove the extra spaces in the column names\n",
    "df.columns = [x.strip() for x in df.columns.values]\n",
    "\n",
    "# make a new column concatenating 'ra' and 'dec'\n",
    "df['RD'] = df['ra'] + df['dec']\n",
    "df.RD\n",
    "\n",
    "# there are some NaN values in RD columns\n",
    "# removing all the rows which have NaN in RD column\n",
    "df = df.dropna(axis = 0, subset = ['RD'])\n",
    "\n",
    "# resetting index\n",
    "df.reset_index(drop = True, inplace = True)"
   ]
  },
  {
   "cell_type": "code",
   "execution_count": 33,
   "id": "b41841de-018a-42c1-a3e4-27c5e7e42581",
   "metadata": {},
   "outputs": [],
   "source": [
    "# numpy array of SkyCoord tuple (ra, dec)\n",
    "radec = np.array([SkyCoord(x, frame = FK4, unit = (u.hourangle, u.deg), obstime = \"J2000\") for x in df['RD']])\n",
    "\n",
    "# add two new columns with ra and dec values \n",
    "df['ra_val'] = np.array([x.ra.value for x in radec])\n",
    "df['dec_val'] = np.array([x.dec.value for x in radec])"
   ]
  },
  {
   "cell_type": "code",
   "execution_count": 34,
   "id": "cc08c9dc-43c0-4aad-a2cb-a9e3c96ee9cb",
   "metadata": {},
   "outputs": [],
   "source": [
    "# saving the cleaned data frame into a file\n",
    "df.to_csv('gbmdatacleaned.csv')"
   ]
  },
  {
   "cell_type": "code",
   "execution_count": 35,
   "id": "9df45153-7235-4ab2-b7aa-267aad485778",
   "metadata": {},
   "outputs": [],
   "source": [
    "R = 10 # radius in degrees"
   ]
  },
  {
   "cell_type": "code",
   "execution_count": 36,
   "id": "1916d224-5856-4b3d-86cb-ad9adaf9110a",
   "metadata": {},
   "outputs": [],
   "source": [
    "def nearbyGRB(n, ra_val, dec_val):\n",
    "    '''\n",
    "    find nearbyGRB in a 'R' degree radius\n",
    "    n = index (center of circle)\n",
    "    ra_val = ra values , dec_val = dec values\n",
    "    '''\n",
    "    nbd = []\n",
    "    ra = ra_val[n]\n",
    "    dec = dec_val[n]\n",
    "    for i in range(n+1, len(ra_val)):\n",
    "        if ra_val[i] == ra or dec_val[i] == dec:\n",
    "            continue\n",
    "        if((ra_val[i] - ra)**2 + (dec_val[i] - dec)**2 <= R**2):\n",
    "            nbd.append(i)\n",
    "    return nbd"
   ]
  },
  {
   "cell_type": "code",
   "execution_count": 37,
   "id": "05055697-e2a4-428f-b7b2-6f207aea5ab1",
   "metadata": {},
   "outputs": [
    {
     "name": "stdout",
     "output_type": "stream",
     "text": [
      "time elapsed : 73.1350269317627\n"
     ]
    }
   ],
   "source": [
    "start = time.time()\n",
    "\n",
    "nbd = []\n",
    "for i in range(len(df['ra_val'])):\n",
    "    ls = nearbyGRB(i, df['ra_val'], df['dec_val'])\n",
    "    if ls:\n",
    "        nbd.append((i,ls))\n",
    "\n",
    "end = time.time()\n",
    "print('time elapsed : {}'.format(end - start))"
   ]
  },
  {
   "cell_type": "code",
   "execution_count": 39,
   "id": "b57629bf-6ad5-42b4-b838-517f50e50677",
   "metadata": {},
   "outputs": [],
   "source": [
    "# pickling nbd array\n",
    "with open('nbd_array', 'wb') as f:\n",
    "    pickle.dump(nbd, f)"
   ]
  }
 ],
 "metadata": {
  "kernelspec": {
   "display_name": "Python 3 (ipykernel)",
   "language": "python",
   "name": "python3"
  },
  "language_info": {
   "codemirror_mode": {
    "name": "ipython",
    "version": 3
   },
   "file_extension": ".py",
   "mimetype": "text/x-python",
   "name": "python",
   "nbconvert_exporter": "python",
   "pygments_lexer": "ipython3",
   "version": "3.9.7"
  }
 },
 "nbformat": 4,
 "nbformat_minor": 5
}
